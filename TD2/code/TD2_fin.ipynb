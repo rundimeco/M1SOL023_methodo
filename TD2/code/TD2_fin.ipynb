{
 "cells": [
  {
   "cell_type": "code",
   "execution_count": 10,
   "metadata": {},
   "outputs": [],
   "source": [
    "##--------------------------\n",
    "## Base de connaissances\n",
    "##--------------------------\n",
    "nc1 = {}\n",
    "nc1[\"lemme\"] = \"nourriture\"\n",
    "nc1[\"genre\"] = \"fem\"\n",
    "nc1[\"ENG\"] = \"food\"\n",
    "\n",
    "nc2 = {}\n",
    "nc2[\"lemme\"] = \"boisson\"\n",
    "nc2[\"genre\"] = \"masc\"\n",
    "nc2[\"ENG\"] = \"drink\"\n",
    "\n",
    "nc3 = {}\n",
    "nc3[\"lemme\"] = \"eau\"\n",
    "nc3[\"genre\"] = \"fem\"\n",
    "nc3[\"ENG\"] = \"water\"\n",
    "\n",
    "nc4 = {}\n",
    "nc4[\"lemme\"] = \"alcool\"\n",
    "nc4[\"genre\"] = \"masc\"\n",
    "nc4[\"ENG\"] = \"alcohol\"\n",
    "\n",
    "nc5 = {}\n",
    "nc5[\"lemme\"] = \"pain\"\n",
    "nc5[\"genre\"] = \"masc\"\n",
    "nc5[\"ENG\"] = \"bread\"\n",
    "\n",
    "NC = [nc1,nc2,nc3,nc4,nc5]\n",
    "\n",
    "    "
   ]
  },
  {
   "cell_type": "code",
   "execution_count": 11,
   "metadata": {},
   "outputs": [],
   "source": [
    "dico_complet = {}#initialisation du dictionnaire\n",
    "for dic in NC:#ajout des informations dans le dictionnaire\n",
    "  lemme = dic[\"lemme\"]\n",
    "  dico_complet[lemme] = dic\n"
   ]
  },
  {
   "cell_type": "code",
   "execution_count": 26,
   "metadata": {},
   "outputs": [],
   "source": [
    "def lire_fichier(chemin):##en entrée le chemin\n",
    "    f = open(chemin, encoding = \"utf-8\")\n",
    "    lignes = f.readlines()\n",
    "    f.close()\n",
    "    return lignes## en sortie les lignes du fichier\n",
    "\n",
    "def tokeniser(chaine):## en entrée la chaîne de caractères\n",
    "    for ponctuation in [\",\", \".\", \"!\"]:\n",
    "        chaine = chaine.replace(ponctuation, \" \")\n",
    "    chaine = chaine.replace(\"'\", \" ' \")\n",
    "    return chaine.split()## en sortie la liste de mots\n",
    "\n",
    "##Ouvrir le fichier :\n",
    "lignes = lire_fichier(\"Methodo_TD2/Textes/Dure_vie.txt\")\n",
    "##Structure de données pour stocker la sortie:\n",
    "out = []\n",
    "##Le parcourir ligne par ligne\n",
    "for l in lignes:\n",
    "    liste_mots = tokeniser(l)\n",
    "    for mot in liste_mots:\n",
    "        if mot not in dico_complet:\n",
    "            out.append(mot)\n",
    "        else:\n",
    "            ##version montrée en cours :\n",
    "            #out.append(\"<genre='%s'>%s</genre>\"%(dico_complet[mot][\"genre\"], mot))\n",
    "            ##version montrée dans l'exemple du TD:\n",
    "            out.append(\"%s<%s>\"%(mot, dico_complet[mot][\"genre\"]))\n",
    "    out.append(\"\\n\")##pour remettre les marques de fin de ligne\n",
    "\n",
    "## En sortie de la boucle, la liste des mots, taggés ou non selon qu'ils sont dans le dictionnaire\n",
    "\n",
    "##on rentransforme la liste en chaine avec join :\n",
    "out_chaine = \" \".join(out)\n",
    "##on recompose les apostrophes :\n",
    "out_chaine = out_chaine.replace(\" ' \", \"'\")\n",
    "##On enlève les espaces en début de ligne\n",
    "out_chaine = out_chaine.replace(\"\\n \",\"\\n\")\n",
    "\n",
    "w =open(\"Dure_vie_tag\", \"w\", encoding = \"utf-8\")\n",
    "w.write(out_chaine)\n",
    "w.close()"
   ]
  },
  {
   "cell_type": "code",
   "execution_count": null,
   "metadata": {},
   "outputs": [],
   "source": [
    "## alternative pour la boucle for avec du one-lining\n",
    "## pour que tout soit visble je vais juste renommer la base de connaissance pour avoir un nom plus court :\n",
    "d = dico_complet\n",
    "out=[]\n",
    "for l in lignes:\n",
    "    out+=[mot if mot not in d else \"%s<%s>\"%(mot, d[mot][\"genre\"]) for mot in tokeniser(l)]\n",
    "    out.append(\"\\n\")##pour remettre les marques de fin de ligne\n",
    "oout_chaine = \" \".join(out).replace(\" ' \", \"'\").replace(\"\\n \",\"\\n\")\n",
    "print(out_chaine)## que l'on peut aussi stocker dans un fichier ..."
   ]
  },
  {
   "cell_type": "code",
   "execution_count": null,
   "metadata": {
    "collapsed": true
   },
   "outputs": [],
   "source": []
  }
 ],
 "metadata": {
  "kernelspec": {
   "display_name": "Python 3",
   "language": "python",
   "name": "python3"
  },
  "language_info": {
   "codemirror_mode": {
    "name": "ipython",
    "version": 3
   },
   "file_extension": ".py",
   "mimetype": "text/x-python",
   "name": "python",
   "nbconvert_exporter": "python",
   "pygments_lexer": "ipython3",
   "version": "3.7.5"
  }
 },
 "nbformat": 4,
 "nbformat_minor": 2
}
