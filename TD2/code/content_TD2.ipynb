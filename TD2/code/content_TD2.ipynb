{
 "cells": [
  {
   "cell_type": "markdown",
   "metadata": {},
   "source": [
    "------------------------------------------------------------------------\n",
    "\n",
    "Installation et rappels \n",
    "=======================\n",
    "\n",
    "Pour les consignes d'installation, référez vous au module de Remise à\n",
    "Niveau disponible sur Moodle.\n",
    "\n",
    "\n",
    "Dans ce TD nous allons beaucoup exploiter **la notion de \\\"script\\\"** pour pouvoir faire des rendus.\n",
    "\n",
    "A la fin de ce TD, il vous\n",
    "faudra exporter votre travail pour le déposer sur Moodle. Pour ce faire, dans le menu fichier, choisissez l'option \"Télécharger au format py\", vous déposerez votre travail sur Moodle sous le nom NUMETU.py où NUMETU est votre numéro d'étudiant à 8 chiffres.\n",
    "\n",
    "\n",
    "Manipulation de fichiers\n",
    "========================\n",
    "\n",
    "Un des grands intérêts d'utiliser un langage de programmation est de\n",
    "pouvoir effectuer automatiquement des opérations pénibles et répétitives\n",
    "sur les fichiers. Dans cette section nous verrons comment manipuler des\n",
    "fichiers (ouvrir, enregistrer ...) sans passer systématiquement par des\n",
    "phases de clic dans une interface graphique.\n",
    "\n",
    "A première vue cela semblera sans doute un peu \"exotique\" pour les\n",
    "plus débutants d'entre vous. Songez que lorsque l'on fait du Traitement Automatique des Langues, on\n",
    "peut être amené à ouvrir successivement des milliers de fichiers. Vous\n",
    "verrez assez vite le gain qu'il y a à automatiser ces étapes.\n",
    "\n",
    "Écrire dans un fichier\n",
    "----------------------\n",
    "\n",
    "Dézippez l'archive `Methodo_TD2.zip` disponible sur Moodle. Elle va vous\n",
    "créer un dossier Methodo\\_TD2, dans lequel figure un dossier contenant les textes dont\n",
    "nous nous servirons dans ce TD.\n",
    "\n",
    "Nous utiliserons l'instruction `open` qui prend deux paramètres : le\n",
    "chemin et le mode d'accès au fichier (\\\"r\\\" par défaut). Recopiez le\n",
    "code ci-dessous:\n"
   ]
  },
  {
   "cell_type": "code",
   "execution_count": 3,
   "metadata": {},
   "outputs": [],
   "source": [
    "f = open(\"tests.txt\", \"a\")\n",
    "f.write(\"Ceci est un premier ajout.\")\n",
    "f.write(\"Voici un deuxieme ajout.\")\n",
    "f.close()"
   ]
  },
  {
   "cell_type": "markdown",
   "metadata": {},
   "source": [
    "La librairie `os` permet l'accès aux fonctionnalités du système\n",
    "d'exploitation (quel qu'il soit), pour créer automatiquement des\n",
    "dossiers par exemple.\n"
   ]
  },
  {
   "cell_type": "code",
   "execution_count": 4,
   "metadata": {},
   "outputs": [
    {
     "ename": "FileExistsError",
     "evalue": "[Errno 17] File exists: 'tests/'",
     "output_type": "error",
     "traceback": [
      "\u001b[0;31m---------------------------------------------------------------------------\u001b[0m",
      "\u001b[0;31mFileExistsError\u001b[0m                           Traceback (most recent call last)",
      "\u001b[0;32m<ipython-input-4-6db45064ab0b>\u001b[0m in \u001b[0;36m<module>\u001b[0;34m\u001b[0m\n\u001b[1;32m      1\u001b[0m \u001b[0;32mimport\u001b[0m \u001b[0mos\u001b[0m\u001b[0;34m\u001b[0m\u001b[0;34m\u001b[0m\u001b[0m\n\u001b[0;32m----> 2\u001b[0;31m \u001b[0mos\u001b[0m\u001b[0;34m.\u001b[0m\u001b[0mmakedirs\u001b[0m\u001b[0;34m(\u001b[0m\u001b[0;34m\"tests/\"\u001b[0m\u001b[0;34m)\u001b[0m\u001b[0;31m#crée le dossier (si vous avez les droits !)\u001b[0m\u001b[0;34m\u001b[0m\u001b[0;34m\u001b[0m\u001b[0m\n\u001b[0m\u001b[1;32m      3\u001b[0m \u001b[0mos\u001b[0m\u001b[0;34m.\u001b[0m\u001b[0mchdir\u001b[0m \u001b[0;34m(\u001b[0m\u001b[0;34m\"tests/\"\u001b[0m\u001b[0;34m)\u001b[0m\u001b[0;34m\u001b[0m\u001b[0;34m\u001b[0m\u001b[0m\n\u001b[1;32m      4\u001b[0m \u001b[0mf\u001b[0m \u001b[0;34m=\u001b[0m \u001b[0mopen\u001b[0m\u001b[0;34m(\u001b[0m\u001b[0;34m\"tests.txt\"\u001b[0m\u001b[0;34m,\u001b[0m \u001b[0;34m\"a\"\u001b[0m\u001b[0;34m)\u001b[0m\u001b[0;34m\u001b[0m\u001b[0;34m\u001b[0m\u001b[0m\n\u001b[1;32m      5\u001b[0m \u001b[0mf\u001b[0m\u001b[0;34m.\u001b[0m\u001b[0mwrite\u001b[0m\u001b[0;34m(\u001b[0m\u001b[0;34m\"Ceci est un premier ajout (second essai).\"\u001b[0m\u001b[0;34m)\u001b[0m\u001b[0;34m\u001b[0m\u001b[0;34m\u001b[0m\u001b[0m\n",
      "\u001b[0;32m~/anaconda3/lib/python3.7/os.py\u001b[0m in \u001b[0;36mmakedirs\u001b[0;34m(name, mode, exist_ok)\u001b[0m\n\u001b[1;32m    219\u001b[0m             \u001b[0;32mreturn\u001b[0m\u001b[0;34m\u001b[0m\u001b[0;34m\u001b[0m\u001b[0m\n\u001b[1;32m    220\u001b[0m     \u001b[0;32mtry\u001b[0m\u001b[0;34m:\u001b[0m\u001b[0;34m\u001b[0m\u001b[0;34m\u001b[0m\u001b[0m\n\u001b[0;32m--> 221\u001b[0;31m         \u001b[0mmkdir\u001b[0m\u001b[0;34m(\u001b[0m\u001b[0mname\u001b[0m\u001b[0;34m,\u001b[0m \u001b[0mmode\u001b[0m\u001b[0;34m)\u001b[0m\u001b[0;34m\u001b[0m\u001b[0;34m\u001b[0m\u001b[0m\n\u001b[0m\u001b[1;32m    222\u001b[0m     \u001b[0;32mexcept\u001b[0m \u001b[0mOSError\u001b[0m\u001b[0;34m:\u001b[0m\u001b[0;34m\u001b[0m\u001b[0;34m\u001b[0m\u001b[0m\n\u001b[1;32m    223\u001b[0m         \u001b[0;31m# Cannot rely on checking for EEXIST, since the operating system\u001b[0m\u001b[0;34m\u001b[0m\u001b[0;34m\u001b[0m\u001b[0;34m\u001b[0m\u001b[0m\n",
      "\u001b[0;31mFileExistsError\u001b[0m: [Errno 17] File exists: 'tests/'"
     ]
    }
   ],
   "source": [
    "import os \n",
    "os.makedirs(\"tests/\")#crée le dossier (si vous avez les droits !)\n",
    "os.chdir (\"tests/\")\n",
    "f = open(\"tests.txt\", \"a\")\n",
    "f.write(\"Ceci est un premier ajout (second essai).\")\n",
    "f.write(\"Voici un deuxième ajout (second essai).\")\n",
    "f.close()"
   ]
  },
  {
   "cell_type": "markdown",
   "metadata": {},
   "source": [
    "Questions à vous poser :\n",
    "\n",
    "A quoi sert la variable f ?\n",
    "\n",
    "Que signifie le paramètre \\\"a\\\" dans la fonction open ? (voir doc\n",
    "Python)\n",
    "\n",
    "Ouvrez les deux fichiers \\\"tests.txt\\\" nouvellement créés (un figure\n",
    "dans le répertoire courant, l'autre dans le dossier `tests`. On remarque\n",
    "que la méthode `write` ajoute nos phrases à la suite les unes des\n",
    "autres. Que pouvons nous modifier dans le code pour que les phrases\n",
    "soient sur deux lignes différentes ?\n",
    "\n",
    "Lire dans un fichier\n",
    "--------------------\n",
    "\n",
    "Ecrivez dans la cellule ci-dessous un code permettant d'afficher le\n",
    "contenu du fichier \\\"Informatique.txt\\\" (situé dans votre dossier\n",
    "Methodo\\_TD2/Textes). Voici quelques indications :\n",
    "\n",
    "N'oubliez pas de désigner le répertoire de travail courant.\n",
    "\n",
    "Le mode d'accès au fichier est \\\"r\\\" (lecture seule).\n",
    "\n",
    "La méthode à utiliser pour la lecture est `read()` , elle retourne tout le contenu du fichier (sous forme de\n",
    "chaîne). **N'oubliez pas de fermer le flux (= le fichier ouvert) avec la\n",
    "méthode `close()` !**"
   ]
  },
  {
   "cell_type": "code",
   "execution_count": null,
   "metadata": {},
   "outputs": [],
   "source": [
    "##Votre code ici"
   ]
  },
  {
   "cell_type": "markdown",
   "metadata": {},
   "source": [
    "Testez un autre appel à la méthode `read()`, recopiez ce code :"
   ]
  },
  {
   "cell_type": "code",
   "execution_count": null,
   "metadata": {},
   "outputs": [],
   "source": [
    "print(f.read(10))\n",
    "print(f.read(20))\n",
    "print(f.read(30))"
   ]
  },
  {
   "cell_type": "markdown",
   "metadata": {},
   "source": [
    "Comprenez vous ce que signifient les paramètres 10, 20 et 30 ?\n",
    "\n",
    "Observez la différence de comportement si vous n'appelez que f.read(10),\n",
    "ou que f.read(20), ou que f.read(30) dans votre script. Éditez votre\n",
    "code afin de n'afficher que Informatik (qui apparaît dans la première\n",
    "phrase).\n",
    "\n",
    "Testez ce code :"
   ]
  },
  {
   "cell_type": "code",
   "execution_count": null,
   "metadata": {},
   "outputs": [],
   "source": [
    "def CopieFichier(source, destination):\n",
    "  fs = open(source,\"r\")\n",
    "  fd = open(destination, \"w\")\n",
    "  while 1:\n",
    "    txt = fs.read(50)\n",
    "    if txt == \"\":break\n",
    "    fd.write(txt)\n",
    "  fs.close()\n",
    "  fd.close()\n",
    "  return \"'%s' copié dans '%s'\"%(source, destination)\n",
    "CopieFichier(\"Textes/Informatique.txt\", \"Textes/Informatique2.txt\")\n",
    "\n"
   ]
  },
  {
   "cell_type": "markdown",
   "metadata": {},
   "source": [
    "Expliquez ce que signifie \\\"while 1:\\\"\n",
    "\n",
    "Comment fait on pour sortir de cette boucle ?\n",
    "\n",
    "Que signifie le mode w ?\n",
    "\n",
    "Testez la fonction suivante qui lit tout le flux d'un coup :\n"
   ]
  },
  {
   "cell_type": "code",
   "execution_count": null,
   "metadata": {},
   "outputs": [],
   "source": [
    "def CopieFichier2(source, destination):\n",
    "  fs = open(source,\"r\")\n",
    "  fd = open(destination, \"w\")\n",
    "  txt = fs.read()#ici on lit tout d'un coup\n",
    "  fd.write(txt)\n",
    "  fs.close()\n",
    "  fd.close()\n",
    "  return \"'%s' copié dans '%s'\"%(source, destination)\n"
   ]
  },
  {
   "cell_type": "markdown",
   "metadata": {},
   "source": [
    "Écrivez un code permettant de lire dans le fichier \\\"Lignes.txt\\\" en créant un objet fichier nommé F. Vous\n",
    "afficherez la première ligne de texte grâce à la méthode `readline()`:"
   ]
  },
  {
   "cell_type": "code",
   "execution_count": null,
   "metadata": {},
   "outputs": [],
   "source": [
    "print(F.readline())"
   ]
  },
  {
   "cell_type": "markdown",
   "metadata": {},
   "source": [
    "Éditez votre précédent code afin de stocker l'intégralité des lignes\n",
    "dans une variable. La méthode à utiliser ici s'appelle `readlines()` :\n"
   ]
  },
  {
   "cell_type": "code",
   "execution_count": null,
   "metadata": {},
   "outputs": [],
   "source": [
    "t = F.readlines()"
   ]
  },
  {
   "cell_type": "markdown",
   "metadata": {},
   "source": [
    "Faites afficher la variable t, ainsi que son type.\n",
    "\n",
    "Observez le code suivant :"
   ]
  },
  {
   "cell_type": "code",
   "execution_count": null,
   "metadata": {},
   "outputs": [],
   "source": [
    "def filtre(source, destination):\n",
    "  fs = open(source, \"r\")\n",
    "  fd = open(destination, \"w\")\n",
    "  while 1:\n",
    "    txt = fs.readline()\n",
    "    if txt==\"\":\n",
    "      break\n",
    "    if txt[0]!=\"#\":\n",
    "      fd.write(txt)\n",
    "  fs.close()\n",
    "  fd.close()\n",
    "  return\n",
    "filtre(\"Textes/avant_filtrage.txt\",\"Textes/apres_filtrage.txt\")\n"
   ]
  },
  {
   "cell_type": "markdown",
   "metadata": {},
   "source": [
    "Éditez ce code afin qu'il supprime également les lignes vides. Les\n",
    "lignes vides sont celles qui ne comportent que des sauts de ligne. Comme\n",
    "ils sont interprétés (on saute à la ligne), il faut les repérer grâce à\n",
    "leur représentation informatique :\\\"$\\backslash r$$\\backslash n$\\\" ou\n",
    "seulement \\\"$\\backslash n$\\\").\n",
    "\n",
    "Gestion des erreurs avec `try` et `except`\n",
    "------------------------------------------\n",
    "\n",
    "Ce qui vous est présenté dans cette section est une \\\"astuce\\\" de\n",
    "programmation très utile, et pas seulement pour les problèmes que nous\n",
    "voyons dans ce TD.\n",
    "\n",
    "Quand votre code renvoie une erreur qui empêche l'exécution de la\n",
    "totalité du script, utilisez les instructions `try` et `except` pour\n",
    "gérer cette erreur.\n",
    "\n",
    "Pour comprendre le fonctionnement de ces deux instructions, observez la\n",
    "différence entre les deux codes suivants:\n"
   ]
  },
  {
   "cell_type": "code",
   "execution_count": null,
   "metadata": {},
   "outputs": [],
   "source": [
    "print(\"toto\")\n",
    "1/0\n",
    "print(\"titi\")"
   ]
  },
  {
   "cell_type": "markdown",
   "metadata": {},
   "source": [
    "A comparer avec :\n"
   ]
  },
  {
   "cell_type": "code",
   "execution_count": null,
   "metadata": {},
   "outputs": [],
   "source": [
    "print(\"toto\")\n",
    "try:\n",
    "  1/0\n",
    "except Exception as e:\n",
    "  print(\" Erreur rencontrée : \", e)\n",
    "  print(\" On continue quand même\")\n",
    "\n",
    "print(\"titi\")"
   ]
  },
  {
   "cell_type": "markdown",
   "metadata": {},
   "source": [
    "Vous adapterez le code suivant afin que la ligne \\\"Bonjour !\\\" s'affiche\n",
    "toujours, qu'il y ait eu erreur d'ouverture ou non.\n"
   ]
  },
  {
   "cell_type": "code",
   "execution_count": null,
   "metadata": {},
   "outputs": [],
   "source": [
    "import os\n",
    "os.chdir (\"./Textes\")\n",
    "f = open(\"fichierquelconque.txt\", \"r\")\n",
    "print(f.readlines())\n",
    "print(\"Bonjour !\")\n"
   ]
  },
  {
   "cell_type": "markdown",
   "metadata": {},
   "source": [
    "Structure de données : listes et ensembles\n",
    "==========================================\n",
    "\n",
    "Les listes (`list`) et les ensembles (`set`), permettent de stocker un\n",
    "grand nombre de données, elles ont des propriétés particulières. La\n",
    "liste est une série d'éléments entre crochets séparés par des virgules,\n",
    "dans une liste les éléments sont rangés dans un certain ordre. Les\n",
    "ensembles sont des séries d'éléments uniques entre accolades et séparés\n",
    "par des virgules. L'instruction `set()` permet de créer un ensemble vide\n",
    "(pour le remplir plus tard. Contrairement à une liste, il n'y a pas de\n",
    "notion d'ordre et il n'y a pas non plus de doublons (tous les éléments\n",
    "sont uniques). On peut transformer un ensemble toto en liste en écrivant\n",
    ":\n"
   ]
  },
  {
   "cell_type": "code",
   "execution_count": null,
   "metadata": {},
   "outputs": [],
   "source": [
    "toto = list(toto)"
   ]
  },
  {
   "cell_type": "markdown",
   "metadata": {},
   "source": [
    "L'opération inverse se fait avec l'instruction `set()`, si je veux\n",
    "retransformer toto en ensemble, j'écris donc :\n"
   ]
  },
  {
   "cell_type": "code",
   "execution_count": null,
   "metadata": {},
   "outputs": [],
   "source": [
    "toto = set(toto)"
   ]
  },
  {
   "cell_type": "markdown",
   "metadata": {},
   "source": [
    "Allez jeter un coup d'œil sur les sections 5.1 (jusqu'au 5.1.1) et 5.4\n",
    "de la documentation sur le sujet :\n",
    "\n",
    "<https://docs.python.org/3/tutorial/datastructures.html>\n",
    "\n",
    "Avantages respectifs des deux structures\n",
    "----------------------------------------\n",
    "\n",
    "Copiez-collez la liste ci-dessous (`liste1`) Vous effectuerez\n",
    "différentes manipulations et à chaque fois, affichez la valeur de la\n",
    "variable `liste` et son type."
   ]
  },
  {
   "cell_type": "code",
   "execution_count": null,
   "metadata": {},
   "outputs": [],
   "source": [
    "liste1=[1,2,3,4,5,5,65,65,\"B\",34,43,4,54,\"y\",6,3,65,4,\"a\",\"P\"]\n",
    "print(liste1)\n",
    "print(type(liste1))"
   ]
  },
  {
   "cell_type": "markdown",
   "metadata": {},
   "source": [
    "A noter que mettre ou pas des espaces au niveau des virgules de la liste\n",
    "ne change rien.\n",
    "\n",
    "Retirez les doublons en transformant cette liste en ensemble :\n"
   ]
  },
  {
   "cell_type": "code",
   "execution_count": null,
   "metadata": {},
   "outputs": [],
   "source": [
    "liste1 = set(liste1)\n",
    "print(liste1, type(liste1))"
   ]
  },
  {
   "cell_type": "markdown",
   "metadata": {},
   "source": [
    "Redéfinissez la variable liste comme une variable de type `list` :\n"
   ]
  },
  {
   "cell_type": "code",
   "execution_count": null,
   "metadata": {},
   "outputs": [],
   "source": [
    "liste1 = list(liste1)"
   ]
  },
  {
   "cell_type": "markdown",
   "metadata": {},
   "source": [
    "Parcourez tous les éléments de la liste avec une boucle `for` :\n"
   ]
  },
  {
   "cell_type": "code",
   "execution_count": null,
   "metadata": {},
   "outputs": [],
   "source": [
    "for toto in liste1:\n",
    "  print(toto)"
   ]
  },
  {
   "cell_type": "markdown",
   "metadata": {},
   "source": [
    "Remarquez que l'on prend les éléments un par un et qu'on leur donne un\n",
    "nom pour pouvoir les manipuler comme des variables. Ici c'est `toto`. Si\n",
    "l'élément est une chaîne de caractère, et qu'il est en minuscules\n",
    "(lowercase), transformez-le en majuscules (uppercase). Voici les outils\n",
    "dont vous avez besoin :\n"
   ]
  },
  {
   "cell_type": "code",
   "execution_count": 5,
   "metadata": {},
   "outputs": [
    {
     "ename": "NameError",
     "evalue": "name 'toto' is not defined",
     "output_type": "error",
     "traceback": [
      "\u001b[0;31m---------------------------------------------------------------------------\u001b[0m",
      "\u001b[0;31mNameError\u001b[0m                                 Traceback (most recent call last)",
      "\u001b[0;32m<ipython-input-5-05d9f3e641c5>\u001b[0m in \u001b[0;36m<module>\u001b[0;34m\u001b[0m\n\u001b[0;32m----> 1\u001b[0;31m \u001b[0mtype\u001b[0m\u001b[0;34m(\u001b[0m\u001b[0mtoto\u001b[0m\u001b[0;34m)\u001b[0m \u001b[0;32mis\u001b[0m \u001b[0mstr\u001b[0m \u001b[0;31m#Renvoie Vrai si toto est de type String\u001b[0m\u001b[0;34m\u001b[0m\u001b[0;34m\u001b[0m\u001b[0m\n\u001b[0m\u001b[1;32m      2\u001b[0m \u001b[0mstr\u001b[0m\u001b[0;34m.\u001b[0m\u001b[0misupper\u001b[0m\u001b[0;34m(\u001b[0m\u001b[0;34m)\u001b[0m\u001b[0;31m# Vérifie si str est en majuscules (booléen)\u001b[0m\u001b[0;34m\u001b[0m\u001b[0;34m\u001b[0m\u001b[0m\n\u001b[1;32m      3\u001b[0m \u001b[0mstr\u001b[0m\u001b[0;34m.\u001b[0m\u001b[0mislower\u001b[0m\u001b[0;34m(\u001b[0m\u001b[0;34m)\u001b[0m\u001b[0;31m# Vérifie si str est en minuscules (booléen)\u001b[0m\u001b[0;34m\u001b[0m\u001b[0;34m\u001b[0m\u001b[0m\n\u001b[1;32m      4\u001b[0m \u001b[0mstr\u001b[0m\u001b[0;34m.\u001b[0m\u001b[0mupper\u001b[0m\u001b[0;34m(\u001b[0m\u001b[0;34m)\u001b[0m\u001b[0;31m# Renvoie une copie de str en majuscule.\u001b[0m\u001b[0;34m\u001b[0m\u001b[0;34m\u001b[0m\u001b[0m\n\u001b[1;32m      5\u001b[0m \u001b[0mstr\u001b[0m\u001b[0;34m.\u001b[0m\u001b[0mlower\u001b[0m\u001b[0;34m(\u001b[0m\u001b[0;34m)\u001b[0m\u001b[0;31m# Renvoie une copie de str en minuscule.\u001b[0m\u001b[0;34m\u001b[0m\u001b[0;34m\u001b[0m\u001b[0m\n",
      "\u001b[0;31mNameError\u001b[0m: name 'toto' is not defined"
     ]
    }
   ],
   "source": [
    "type(toto) is str #Renvoie Vrai si toto est de type String\n",
    "str.isupper()# Vérifie si str est en majuscules (booléen)\n",
    "str.islower()# Vérifie si str est en minuscules (booléen)\n",
    "str.upper()# Renvoie une copie de str en majuscule.\n",
    "str.lower()# Renvoie une copie de str en minuscule."
   ]
  },
  {
   "cell_type": "markdown",
   "metadata": {},
   "source": [
    "Manipulation\n",
    "------------\n",
    "\n",
    "Créez un nouveau script ou vous initialiserez `liste1` avec la valeur\n",
    "suivante :"
   ]
  },
  {
   "cell_type": "code",
   "execution_count": null,
   "metadata": {},
   "outputs": [],
   "source": [
    "[1, 2, 3, 4, 5, 65, 34, 6, 'B', 43, 'A', 'Y', 54, 'P']"
   ]
  },
  {
   "cell_type": "markdown",
   "metadata": {},
   "source": [
    "Ajoutez à `liste1` un nouvel élément, ayant pour valeur 128. Utilisez la\n",
    "méthode `append` qui permet d\"ajouter un élément à une liste :\n"
   ]
  },
  {
   "cell_type": "code",
   "execution_count": null,
   "metadata": {},
   "outputs": [],
   "source": [
    "liste1.append(128)"
   ]
  },
  {
   "cell_type": "markdown",
   "metadata": {},
   "source": [
    "\\\"Ajoutez\\\" `liste2` à `liste1` (opérateur +) :\n"
   ]
  },
  {
   "cell_type": "code",
   "execution_count": null,
   "metadata": {},
   "outputs": [],
   "source": [
    "liste2 = [\"mot\", \"autre\"]"
   ]
  },
  {
   "cell_type": "markdown",
   "metadata": {},
   "source": [
    "Afficher liste1 doit renvoyer :\n"
   ]
  },
  {
   "cell_type": "code",
   "execution_count": null,
   "metadata": {},
   "outputs": [],
   "source": [
    "['A', 1, 2, 3, 4, 5, 6, 65, 43, 34, 'P', 'B', 54, 'Y', 128, 'mot', 'autre']"
   ]
  },
  {
   "cell_type": "markdown",
   "metadata": {},
   "source": [
    "Retirez de liste1 l'élément ayant la valeur 34 avec la méthode `remove`\n",
    "qui prend en paramètre la valeur de l'élément à retirer (cf.\n",
    "documentation mentionnée plus haut).\n",
    "\n",
    "\\\"Multipliez\\\" liste1 par 2 avec l'opérateur \\* afin d'obtenir une liste\n",
    "dupliquée :\n"
   ]
  },
  {
   "cell_type": "code",
   "execution_count": null,
   "metadata": {},
   "outputs": [],
   "source": [
    "['A', 1, 2, 3, 4, 5, 6, 65, 43, 'P', 'B', 54, 'Y', 128, 'mot', 'autre', 'A', 1, 2, 3, 4, 5, 6, 65, 43, 'P', \n",
    " 'B', 54, 'Y', 128, 'mot', 'autre']"
   ]
  },
  {
   "cell_type": "markdown",
   "metadata": {},
   "source": [
    "Faites afficher l'indice du premier élément trouvé ayant la valeur\n",
    "\\\"Y\\\". Utilisez la méthode:\n"
   ]
  },
  {
   "cell_type": "code",
   "execution_count": null,
   "metadata": {},
   "outputs": [],
   "source": [
    " liste1.index(X)\n"
   ]
  },
  {
   "cell_type": "markdown",
   "metadata": {},
   "source": [
    "Où \\\"X\\\" est la valeur de l'élément à chercher. L'indice retourné par\n",
    "`index` devrait être 10.\n",
    "\n",
    "Combien de fois l'élément \\\"autre\\\" est-il présent dans la liste ?\n",
    "\n",
    "Vérifiez avec la méthode `count()`\n",
    "\n",
    "Inversez l'ordre d'apparition des éléments dans la liste en utilisant la\n",
    "méthode `reverse()`. Vous devriez obtenir :\n"
   ]
  },
  {
   "cell_type": "code",
   "execution_count": 7,
   "metadata": {},
   "outputs": [
    {
     "data": {
      "text/plain": [
       "['autre',\n",
       " 'mot',\n",
       " 128,\n",
       " 'Y',\n",
       " 54,\n",
       " 'B',\n",
       " 'P',\n",
       " 43,\n",
       " 65,\n",
       " 6,\n",
       " 5,\n",
       " 4,\n",
       " 3,\n",
       " 2,\n",
       " 1,\n",
       " 'A',\n",
       " 'autre',\n",
       " 'mot',\n",
       " 128,\n",
       " 'Y',\n",
       " 54,\n",
       " 'B',\n",
       " 'P',\n",
       " 43,\n",
       " 65,\n",
       " 6,\n",
       " 5,\n",
       " 4,\n",
       " 3,\n",
       " 2,\n",
       " 1,\n",
       " 'A']"
      ]
     },
     "execution_count": 7,
     "metadata": {},
     "output_type": "execute_result"
    }
   ],
   "source": [
    "['autre', 'mot', 128, 'Y', 54, 'B', 'P', 43, 65, 6, 5, 4, 3, 2, 1, 'A', 'autre', 'mot', 128, 'Y', 54,\n",
    " 'B', 'P', 43, 65, 6, 5, 4, 3, 2, 1, 'A']"
   ]
  },
  {
   "cell_type": "markdown",
   "metadata": {},
   "source": [
    "Supprimez les doublons (utilisation de `set()` ci-dessus), et triez la\n",
    "liste à l'aide la méthode `sort()`. Vous devez obtenir :\n"
   ]
  },
  {
   "cell_type": "code",
   "execution_count": null,
   "metadata": {},
   "outputs": [],
   "source": [
    "['1', '128', '2', '3', '4', '43', '5', '54', '6', '65', 'A', 'B', 'P', 'Y', 'autre ', 'mot ']"
   ]
  },
  {
   "cell_type": "markdown",
   "metadata": {},
   "source": [
    "Analogie de traitement entre listes et chaînes de caractères (String)\n",
    "=====================================================================\n",
    "\n",
    "Recopiez et testez les lignes de code suivantes :\n"
   ]
  },
  {
   "cell_type": "code",
   "execution_count": null,
   "metadata": {},
   "outputs": [],
   "source": [
    "s = \"Analogie de traitement entre listes...\"\n",
    "print(s[0]) #extrait le caractère à l'indice 0\n",
    "print(s[2:6])#extrait des sous-parties de la chaîne s\n",
    "print(s[:4])\n",
    "print(s[6:])"
   ]
  },
  {
   "cell_type": "markdown",
   "metadata": {},
   "source": [
    "Nous avons beaucoup travaillé jusqu'ici avec la boucle `while`, nous\n",
    "allons maintenant approfondir sur la boucle `for`. Testez par exemple :\n"
   ]
  },
  {
   "cell_type": "code",
   "execution_count": null,
   "metadata": {},
   "outputs": [],
   "source": [
    "for index in range(len(s)) :\n",
    "  print(s[index])\n",
    "for index in range(10,20) :\n",
    "  print(s[index])"
   ]
  },
  {
   "cell_type": "markdown",
   "metadata": {},
   "source": [
    "Utilisez ces exemples pour extraire de la chaîne s :\n",
    "\n",
    "le caractère à l'indice 3 ;\n",
    "\n",
    "le troisième caractère ;\n",
    "\n",
    "les caractères aux indices de 1 à 5 ;\n",
    "\n",
    "tous les caractères à partir de l'indice 10 inclus ;\n",
    "\n",
    "les trois derniers caractères ;\n",
    "\n",
    "tous les caractères à l'exception des 6 derniers.\n",
    "\n",
    "Combien de fois apparaît la lettre \\\"e\\\" ? (Utilisez la méthode count)\n",
    "\n",
    "Supprimez le point en fin de ligne à l'aide de la méthode replace().\n",
    "\n",
    "Vérifiez la présence du mot \\\"entre\\\" dans la chaîne. Utilisez la\n",
    "méthode find().\n",
    "\n",
    "Que signifie le résultat que vous obtenez ?\n",
    "\n",
    "Cherchez la présence de \\\"analogie\\\" dans la chaîne. Que signifie le\n",
    "résultat obtenu ?\n",
    "\n",
    "Utilisez la méthode split() pour obtenir tous les mots de cette chaîne.\n",
    "\n",
    "Tableaux (listes de listes)\n",
    "===========================\n",
    "\n",
    "Un tableau (ou liste de listes) permet de stocker des données en\n",
    "conservant la notion d'ordre propre aux listes. De telle sorte que l'on\n",
    "peut travailler sur des lignes et des colonnes : aller chercher\n",
    "l'information qui est stockée à la ligne X, colonne Y. Par convention,\n",
    "on nomme $i$ le numéro de ligne et $j$ le numéro de colonne.\n",
    "\n",
    "Parcours de tableaux avec While\n",
    "-------------------------------\n",
    "\n",
    "Voici un exemple de tableau (ou liste de listes):\n"
   ]
  },
  {
   "cell_type": "code",
   "execution_count": null,
   "metadata": {},
   "outputs": [],
   "source": [
    "t = [[1,0,1],[0,0,1],[1,1,0]]"
   ]
  },
  {
   "cell_type": "markdown",
   "metadata": {},
   "source": [
    "Affichez les trois éléments le composant\n",
    "\n",
    "Affichez également le type de chaque élément\n",
    "\n",
    "Étudiez le script ci-dessous, essayez de comprendre ce qu'il fait."
   ]
  },
  {
   "cell_type": "code",
   "execution_count": null,
   "metadata": {},
   "outputs": [],
   "source": [
    "t = [[1,7,5],[6,14,2]]\n",
    "i = 0\n",
    "while i<len(t):\n",
    "  j = 0\n",
    "  while j <len(t[i]):\n",
    "    print(t[i][j],\n",
    "    j = j + 1)\n",
    "  print(\"\")\n",
    "  i = i + 1\n"
   ]
  },
  {
   "cell_type": "markdown",
   "metadata": {},
   "source": [
    "Répondez aux questions suivantes :\n",
    "\n",
    "Que va-t-il afficher ?\n",
    "\n",
    "Quelle est la valeur de t\\[1\\]\\[2\\] ? de t\\[0\\]\\[0\\] ?\n",
    "\n",
    "Parcours de tableaux avec For\n",
    "-----------------------------\n",
    "\n",
    "Voici une autre façon, plus concise, de parcourir un tableau. "
   ]
  },
  {
   "cell_type": "code",
   "execution_count": null,
   "metadata": {},
   "outputs": [],
   "source": [
    "tab = [[1,7,5],[6,14,2]]\n",
    "  for ligne in tab:\n",
    "    for case in ligne:\n",
    "      print(case)"
   ]
  },
  {
   "cell_type": "markdown",
   "metadata": {},
   "source": [
    "Éditez ce code afin qu'il affiche :\n",
    "\n",
    "tableau: [1, 7, 5]\n",
    "\n",
    "1\n",
    "\n",
    "7\n",
    "\n",
    "5\n",
    "\n",
    "\n",
    "tableau: [6, 14, 2]\n",
    "\n",
    "6\n",
    "\n",
    "14\n",
    "\n",
    "2"
   ]
  },
  {
   "cell_type": "code",
   "execution_count": 8,
   "metadata": {},
   "outputs": [],
   "source": [
    "##Coder l'affichage de chaque \"ligne\" du tableau et de chaque cellule de chaque ligne"
   ]
  },
  {
   "cell_type": "markdown",
   "metadata": {},
   "source": [
    "Dictionnaires\n",
    "=============\n",
    "\n",
    "Cette structure de données est appelée aussi tableau associatif, c'est\n",
    "une structure qui **associe des clés et des valeurs**. Dans un\n",
    "dictionnaire [Python]{.smallcaps}, ce n'est plus la notion d'ordre qui\n",
    "permet de ranger les données. La donnée est associée à une clé qui\n",
    "permet d'y accéder directement. Dans la liste, pour accéder à un élément\n",
    "on utilise sa position, ici c'est la clé qui remplit cette office.\n",
    "L'avantage est que la clé peut être (et est souvent) une chaîne de\n",
    "caractères, elle peut donc avoir une sémantique plus étendue qu'un\n",
    "simple indice.\n",
    "\n",
    "Voici un exemple :\n"
   ]
  },
  {
   "cell_type": "code",
   "execution_count": null,
   "metadata": {},
   "outputs": [],
   "source": [
    "nc1 = { \"lemme\" : \"nourriture\",\n",
    "\t\"genre\" : \"fem\",\n",
    "\t\"ENG\"   : \"food\"\n",
    "      }"
   ]
  },
  {
   "cell_type": "markdown",
   "metadata": {},
   "source": [
    "Notez bien que le dictionnaire peut tout aussi bien être déclaré en une\n",
    "seule ligne (c'est d'ailleurs comme cela que [Python]{.smallcaps} le\n",
    "représentera si l'on fait un `print`). Cette mise en forme pour rendre\n",
    "plus lisible par l'humain s'appelle l'impression élégante (*pretty\n",
    "printing*), on utilise aussi le verbe *prettify*.\n",
    "\n",
    "Copiez-collez le contenu du script dictionnaire.py de votre dossier\n",
    "Methodo\\_TD2. Ce script déclare une série de dictionnaires regroupés\n",
    "dans une liste appelée NC.\n",
    "\n",
    "Faites afficher NC avec un `print` classique puis en impression élégante\n",
    "comme dans l'exemple suivant :"
   ]
  },
  {
   "cell_type": "code",
   "execution_count": null,
   "metadata": {},
   "outputs": [],
   "source": [
    "import pprint\n",
    "pp = pprint.PrettyPrinter(indent=4)\n",
    "pp.pprint(NC)\n"
   ]
  },
  {
   "cell_type": "markdown",
   "metadata": {},
   "source": [
    "Affichez maintenant les clés et les valeurs de nc1. Utilisez les\n",
    "méthodes keys() et values().\n",
    "\n",
    "Affichez pour nc1 la valeur de la clé \\\"lemme\\\", pour ce faire utilisez\n",
    "les crochets.\n",
    "\n",
    "Parcourez la liste NC avec for ...in. Pour chaque dictionnaire, extrayez\n",
    "le lemme. Si le lemme rencontré est \\\"eau\\\", alors affichez la\n",
    "traduction anglaise.\n",
    "\n",
    "La liste de dictionnaires n'est pas une structure idéale, testez le code\n",
    "suivant qui crée et utilise un dictionnaire de dictionnaires:\n"
   ]
  },
  {
   "cell_type": "code",
   "execution_count": null,
   "metadata": {},
   "outputs": [],
   "source": [
    "dico_complet = {}#initialisation du dictionnaire\n",
    "for dic in NC:#ajout des informations dans le dictionnaire\n",
    "  lemme = dic[\"lemme\"]\n",
    "  dico_complet[lemme] = dic\n",
    "\n",
    "import pprint #Pour affichage\n",
    "pp = pprint.PrettyPrinter(indent =4)\n",
    "pp.pprint(dico_complet)#observez la différence\n",
    "\n",
    "for lemme, infos in dico_complet.items():#parcours\n",
    "  if lemme==\"eau\":\n",
    "    print(infos[\"ENG\"])\n"
   ]
  },
  {
   "cell_type": "markdown",
   "metadata": {},
   "source": [
    "Ouvrez en lecture seule le fichier Liste\\_mots.txt. Parcourez le et\n",
    "affichez chaque ligne.\n",
    "\n",
    "Utilisez maintenant la méthode strip() pour afficher la ligne en\n",
    "supprimant les caractères de début et fin de ligne ($\\backslash n$ par\n",
    "exemple). Remarquez que nous n'avons désormais que la suite de\n",
    "caractères correspondant au mot lui même. Stockez ces mots dans une\n",
    "liste \\\"liste\\_mots\\\"\n",
    "\n",
    "Pour chaque ligne, vérifiez si le mot rencontré est présent dans la\n",
    "liste des lemmes de NC (). Si le mot est présent, affichez ses\n",
    "caractéristiques sous la forme : lemme (genre) -- ENG\n",
    "\n",
    "Maintenant, plutôt que d'afficher ce résultat, stockez le dans un\n",
    "nouveau fichier texte que vous appellerez Dictionnaire\\_fr\\_eng.txt.\n",
    "\n",
    "Au final, Dictionnaire\\_fr\\_eng.txt contiendra ces informations, sous\n",
    "cette forme :\n"
   ]
  },
  {
   "cell_type": "code",
   "execution_count": 9,
   "metadata": {},
   "outputs": [
    {
     "data": {
      "text/plain": [
       "'nourriture (fem) - food'"
      ]
     },
     "execution_count": 9,
     "metadata": {},
     "output_type": "execute_result"
    }
   ],
   "source": [
    "\"pain (masc) - bread\"\n",
    "\"eau (fem) - water\"\n",
    "\"boisson (masc) - drink\"\n",
    "\"nourriture (fem) - food\""
   ]
  },
  {
   "cell_type": "markdown",
   "metadata": {},
   "source": [
    "Copiez-collez la **base de connaissances** de dictionnaire.py dans un\n",
    "nouveau script.\n",
    "\n",
    "Nous souhaitons étiqueter le fichier Dure\\_vie.txt. Si nous rencontrons\n",
    "un des mots contenus dans la base de connaissances, nous ajoutons alors\n",
    "le genre du mot à la suite de ce mot dans le texte. Nous enregistrons le\n",
    "texte étiqueté (taggé) dans Dure\\_vie\\_tag.txt. Voici ce qui doit\n",
    "apparaître dans ce nouveau fichier texte :\n"
   ]
  },
  {
   "cell_type": "code",
   "execution_count": null,
   "metadata": {},
   "outputs": [],
   "source": [
    "\"\"\"Tous les jours, nous ne mangions que du <masc>pain</masc>.\n",
    "On ne nous donnait également que de l'<fem>eau</fem> croupie.\n",
    "Quelle dure vie !\n",
    "Je ne rêvais alors que d'une bonne <fem>nourriture</fem> \n",
    "riche et savoureuse,et d'une bonne rasade d'<masc>alcool</masc> !\"\"\""
   ]
  }
 ],
 "metadata": {
  "celltoolbar": "Format de la Cellule Texte Brut",
  "kernelspec": {
   "display_name": "Python 3",
   "language": "python",
   "name": "python3"
  },
  "language_info": {
   "codemirror_mode": {
    "name": "ipython",
    "version": 3
   },
   "file_extension": ".py",
   "mimetype": "text/x-python",
   "name": "python",
   "nbconvert_exporter": "python",
   "pygments_lexer": "ipython3",
   "version": "3.7.5"
  }
 },
 "nbformat": 4,
 "nbformat_minor": 4
}
