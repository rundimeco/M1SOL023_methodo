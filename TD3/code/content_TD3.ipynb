{
 "cells": [
  {
   "cell_type": "markdown",
   "metadata": {},
   "source": [
    "------------------------------------------------------------------------\n",
    "\n",
    "Installation et rappels \n",
    "=======================\n",
    "\n",
    "Pour les consignes d'installation, référez vous au module de Remise à Niveau\n",
    "<https://moodle.paris-sorbonne.fr/course/index.php?categoryid=411>\n",
    "\n",
    "Introduction \n",
    "============\n",
    "\n",
    "Ce cours de Méthodologie vise à vous enseigner des méthodes de\n",
    "classification automatique de textes. Pour ce faire, nous devrons\n",
    "constituer un jeu données pour le TD4 :\n",
    "\n",
    "Construire un sous-ensemble de données nommé \\\"jeu d'apprentissage\\\"\n",
    "(training set). Ces données contiendront deux types d'informations :\n",
    "pour chaque texte, nous indiquons la classe (dans notre cas, il s'agit\n",
    "du genre littéraire du texte : journalistique, littérature, etc.), et un\n",
    "ensemble d'indices (ou *features*) permettant -- selon vous -- de\n",
    "différencier les genres les uns des autres.\n",
    "\n",
    "Construire un ensemble de données dont on cherche à deviner l'étiquette\n",
    "ou \\\"jeu de test\\\" (test set), c'est-à-dire des textes pour lesquels\n",
    "nous n'indiquons à la machine que les indices, mais pas la classe (ou\n",
    "valeur cible). Ce jeu de données sert à vérifier (tester) que le modèle\n",
    "appris est fiable.\n",
    "\n",
    "Utiliser des algorithmes de classification : avec l'outil `sklearn` (présenté dans le prochain\n",
    "TD), nous exploiterons notre corpus d'apprentissage, et nous tenterons\n",
    "de trouver quel est le meilleur modèle qui nous permettrait de réaliser\n",
    "la classification du corpus de test\n",
    "\n",
    "Pour faire fonctionner ces algorithmes, il faudra extraire des\n",
    "**indices** (features) qui vont permettre de représenter, le plus\n",
    "souvent, les textes sous forme de vecteurs et les corpus sous forme de\n",
    "matrices de vecteurs. Ceci afin de représenter les données sous des\n",
    "formes adaptées au calcul.\n",
    "\n",
    "Les indices utilisables sont très nombreux, ils peuvent faire appel à\n",
    "différents niveaux de représentation linguistique : morphologie,\n",
    "syntaxe, lexique, style... On sait par exemple que l'utilisation des\n",
    "pronoms personnels est un indice du genre de texte : un texte issu d'un\n",
    "journal contiendra rarement le pronom \\\"tu\\\", tandis qu'on pourra le\n",
    "trouver plus facilement dans un texte littéraire. Pour ce TD, nous\n",
    "travaillons sur les deux textes contenus dans le dossier TD3\\_textes\n",
    "(LExpress.txt et Hugo.txt) disponible sur Moodle.\n",
    "\n",
    "L'objectif aujourd'hui est de déterminer quelques critères qui nous\n",
    "permettent de différencier les deux genres littéraires (i.e.\n",
    "journalistique et littéraire). Conservez chacun des scripts réalisés\n",
    "lors de ce TD : ils seront utiles pour votre projet final.\n",
    "\n",
    "Statistiques sur les caractères\n",
    "===============================\n",
    "\n",
    "Il a été démontré dans de nombreux domaines (par exemple l'attribution\n",
    "d'auteur) que les statistiques sur l'utilisation des caractères dans les\n",
    "textes étaient très efficaces pour la classification. Nous traiterons\n",
    "donc tout d'abord nos textes au grain caractère avant d'aller découper\n",
    "en mots.\n",
    "\n",
    "Créez un dictionnaire [Python] répertoriant pour chaque\n",
    "caractère, et son nombre d'apparitions. Inspirez vous du code suivant :\n"
   ]
  },
  {
   "cell_type": "code",
   "execution_count": 0,
   "metadata": {},
   "outputs": [],
   "source": [
    "def lire_fichier(chemin_fichier):\n",
    "  f = open(chemin_fichier, \"r\")\n",
    "  texteComplet = f.read()     \n",
    "  f.close()    \n",
    "  return texteComplet \n",
    "\n",
    "chemin_fichier = ... #chemin vers Hugo.txt\n",
    "\n",
    "texte = lire_fichier(chemin_fichier)\n",
    "dico_caracteres = {} \n",
    "for caractere in texte:\n",
    "  if caractere not in dico_caracteres:#on crée une entrée\n",
    "    dico_caracteres[caractere]=1\n",
    "  else: #On l'a vu une fois de plus :\n",
    "    dico_caracteres[caractere]+=1"
   ]
  },
  {
   "cell_type": "markdown",
   "metadata": {},
   "source": [
    "On obtiendra quelque chose du genre :\n"
   ]
  },
  {
   "cell_type": "code",
   "execution_count": 0,
   "metadata": {},
   "outputs": [],
   "source": [
    "  dico_caracteres = {\"b\":58, \"c\":19, \"a\":75,\n",
    " \" \":300, \"d\":39, \"e\":149....}\n",
    "#Tous les caractères comptent !"
   ]
  },
  {
   "cell_type": "markdown",
   "metadata": {},
   "source": [
    "Pour plus de lisibilité on voudra peut être trier le dictionnaire par\n",
    "effectif décroissant. Pour ce faire, vous pouvez utiliser de ce code :\n"
   ]
  },
  {
   "cell_type": "code",
   "execution_count": 0,
   "metadata": {},
   "outputs": [],
   "source": [
    "def trier_dic(dic):\n",
    "  L = []\n",
    "  for car, effectif in dic.items():\n",
    "    #On prépare le tri sur l'effectif:\n",
    "    L.append([effectif, car])\n",
    "  L_sorted = sorted(L, reverse=True)\n",
    "  L_reorganisee = []\n",
    "  for effectif, car in L_sorted:\n",
    "    #On remet la paire caractère, effectif :\n",
    "    L_reorganisee.append([car, effectif])\n",
    "  return L_reorganisee"
   ]
  },
  {
   "cell_type": "markdown",
   "metadata": {},
   "source": [
    "Ou en plus condensé :\n"
   ]
  },
  {
   "cell_type": "code",
   "execution_count": 0,
   "metadata": {},
   "outputs": [],
   "source": [
    "def trier_dic(dic):\n",
    "  L = [[effectif,car] for car,effectif in dic.items()]\n",
    "  L_sorted = sorted(L, reverse=True)\n",
    "  return [[car,effectif] for effectif,car in L_sorted]"
   ]
  },
  {
   "cell_type": "markdown",
   "metadata": {},
   "source": [
    "Testez le code suivant :\n"
   ]
  },
  {
   "cell_type": "code",
   "execution_count": 0,
   "metadata": {},
   "outputs": [],
   "source": [
    "dico_caracteres = {\"b\":58, \"c\":19, \"a\":75,\n",
    " \" \":300, \"d\":39, \"e\":149....}\n",
    "c_trie=trier_dic(dico_caracteres)\n",
    "print(c_triee)"
   ]
  },
  {
   "cell_type": "markdown",
   "metadata": {},
   "source": [
    "A vous : faites afficher les 5 caractères les plus fréquents du texte :"
   ]
  },
  {
   "cell_type": "code",
   "execution_count": null,
   "metadata": {},
   "outputs": [],
   "source": [
    "### ici votre code"
   ]
  },
  {
   "cell_type": "markdown",
   "metadata": {},
   "source": [
    "Statistiques sur les mots\n",
    "=========================\n",
    "\n",
    "Pré-traitement\n",
    "--------------\n",
    "\n",
    "Découper en mots passe par la reconnaissance des séparateurs entre mots.\n",
    "Une des méthodes consiste à effectuer des pré-traitements pour unifier\n",
    "les séparateurs.\n",
    "\n",
    "Ouvrez le fichier texte en mode lecture. Lisez l'intégralité du texte et\n",
    "stockez-le dans une variable. Ne faites pas de modifications directement\n",
    "dans cette variable, vous l'exploiterez à nouveau dans la suite de ce\n",
    "TD.\n",
    "\n",
    "Remplacez les ponctuations du texte par des espaces (utilisez la\n",
    "fonction \\\"sub\\\" de la bibliothèque \\\"re\\\"):"
   ]
  },
  {
   "cell_type": "code",
   "execution_count": 0,
   "metadata": {},
   "outputs": [],
   "source": [
    "import re# bibliothèque expression régulière\n",
    "texte = \"En effet, il faudrait pré-traiter cette phrase; ce serait pratique.\"\n",
    "\n",
    "#On substitue \",\" par \" \" dans la variable texte :\n",
    "texte_sans_ponct = re.sub(\",\", \" \", texte)\n",
    "print(texte)\n",
    "print(texte_sans_ponct)"
   ]
  },
  {
   "cell_type": "code",
   "execution_count": 1,
   "metadata": {},
   "outputs": [],
   "source": [
    "#on peut enchaîner les \"sub\" ... mais c'est long\n",
    "#Le mieux est d'utiliser utiliser le \"|\" qui signifie \"ou\" :\n",
    "texte_sans_ponct = re.sub(\",|;|\\.\", \" \", texte)\n",
    "\n",
    "# Si on a \",\", \";\" ou \".\" in remplace par \" \" dans texte\n",
    "#NB sur la mention '\\.': Il faut despécialiser le point qui a une signification particulière dans re\n",
    "print(texte_sans_ponct)"
   ]
  },
  {
   "cell_type": "markdown",
   "metadata": {},
   "source": [
    "Dans la cellule suivante, écrivez un code pour remplacer les majuscules par des minuscules. NB : il existe une fonction\n",
    "python qui effectue cette opération"
   ]
  },
  {
   "cell_type": "code",
   "execution_count": null,
   "metadata": {},
   "outputs": [],
   "source": []
  },
  {
   "cell_type": "markdown",
   "metadata": {},
   "source": [
    "\n",
    "Travail sur les mots\n",
    "--------------------\n",
    "\n",
    "Transformez le texte \\\"Hugo.txt\\\" en une liste, où chaque mot sera un\n",
    "élément de la liste. (méthode [split]{.smallcaps})\n",
    "\n",
    "A partir de cette liste, créez un dictionnaire répertoriant chaque mot,\n",
    "et son nombre d'apparitions.\n",
    "\n",
    "Pour repérer les mots les plus fréquents, triez le dictionnaire par\n",
    "nombre d'occurrences (les mots les plus fréquents apparaîtront en\n",
    "premier).\n",
    "\n",
    "Dans le dictionnaire, supprimez les entrées correspondant à des mots\n",
    "vides (définissez ce qu'est un mot vide pour ce type de textes).\n",
    "\n",
    "Faites afficher les 10 mots les plus fréquents.\n",
    "\n",
    "Calculez la longueur moyenne, minimale et maximale des mots du texte"
   ]
  },
  {
   "cell_type": "code",
   "execution_count": null,
   "metadata": {},
   "outputs": [],
   "source": [
    "### Ici votre code"
   ]
  },
  {
   "cell_type": "markdown",
   "metadata": {},
   "source": [
    "Statistiques sur les phrases\n",
    "============================\n",
    "\n",
    "Reprenez le texte initial (avec ponctuations), découpez le en phrases\n",
    "\n",
    "Comptez le nombre total de phrases.\n",
    "\n",
    "Comptez le nombre d'affirmatives, d'interrogatives, d'exclamatives.\n",
    "\n",
    "Quelle est la longueur moyenne, minimale et maximale des phrases ?"
   ]
  },
  {
   "cell_type": "code",
   "execution_count": null,
   "metadata": {},
   "outputs": [],
   "source": [
    "## Ici votre code"
   ]
  },
  {
   "cell_type": "markdown",
   "metadata": {},
   "source": [
    "Valeur absolue, valeur relative\n",
    "===============================\n",
    "\n",
    "Lorsque l'on compare des valeurs absolues (des effectifs), il peut y\n",
    "avoir des biais liées à des différences de taille entre les textes\n",
    "comparés. Un des moyens de limiter ce biais est de travailler en valeur\n",
    "relative (fréquence), par exemple plutôt que de compter le nombre de\n",
    "\\\"a\\\", compter la fréquence des \\\"a\\\" dans le texte. Cela consiste à\n",
    "diviser l'effectif de \\\"a\\\" par la taille du texte.\n",
    "\n",
    "Reprenez les différentes statistiques vues depuis le début, déterminez\n",
    "pour lesquelles il serait utile de tenir compte de la valeur relative.\n",
    "Copiez-collez les bouts de code concernés dans un nouveau script et\n",
    "modifiez les en conséquence.\n"
   ]
  },
  {
   "cell_type": "code",
   "execution_count": null,
   "metadata": {},
   "outputs": [],
   "source": [
    "## Ici votre code"
   ]
  },
  {
   "cell_type": "markdown",
   "metadata": {},
   "source": [
    "Comparaison des textes\n",
    "======================\n",
    "\n",
    "Vous avez affiché différentes statistiques pour chacun des textes : les\n",
    "5 caractères les plus fréquents, les 10 mots les plus fréquents, etc.\n",
    "\n",
    "Etudiez les statistiques pour les deux textes : quelles caractéristiques\n",
    "sont pertinentes pour différencier les deux textes ?\n",
    "\n",
    "Exploitez les fonctions que vous avez créées de manière à permettre la\n",
    "comparaison de deux textes en une seule opération (combiner boucle for +\n",
    "fonctions)"
   ]
  },
  {
   "cell_type": "code",
   "execution_count": null,
   "metadata": {},
   "outputs": [],
   "source": [
    "##Ici votre code"
   ]
  },
  {
   "cell_type": "markdown",
   "metadata": {},
   "source": [
    "Amélioration du script (\\\"Make it clean\\\")\n",
    "==========================================\n",
    "\n",
    "Si vous ne l'avez pas déjà fait, il est temps d'organiser votre code.\n",
    "Regroupez les différentes parties de votre script en sections :\n",
    "\n",
    "Les fonctions (les différents modules de votre chaîne de traitement);\n",
    "\n",
    "Les constantes (i.e. des variables qui peuvent être utilisées partout\n",
    "dans le code, et qui ne seront jamais modifiées par le script) ;\n",
    "\n",
    "Le Main (le cœur du script, c'est-à-dire ce qui sera exécuté en tout\n",
    "premier, et qui viendra appeler la première fonction utilisée).\n",
    "\n",
    "Ceci permet de repérer les différentes étapes de votre chaîne de\n",
    "traitement. Vérifiez que vos variables et fonctions importantes portent\n",
    "un nom clair et lisible. Par exemple, la variable qui contient\n",
    "l'intégralité du texte s'appellera \\\"texteComplet\\\" plutôt que \\\"t\\\" ou\n",
    "\\\"texte\\\" (etc...).\n",
    "\n",
    "Le code de votre projet sera relu par d'autres gens que vous. Veillez\n",
    "donc à le rendre clair et facilement déchiffrable en suivant ces trois\n",
    "consignes !"
   ]
  },
  {
   "cell_type": "code",
   "execution_count": 0,
   "metadata": {},
   "outputs": [],
   "source": [
    "################################\n",
    "## Fonctions\n",
    "#Fonction pour ouvrir un fichier sous forme de chaîne de caractères\n",
    "def lire_fichier(chemin_fichier):\n",
    "  f = open(chemin_fichier, \"r\")\n",
    "  texteComplet = f.read() #Lecture du fichier, stockage \n",
    "  f.close()    #On ferme le flux car on en a plus besoin\n",
    "  return texteComplet #on renvoie la chaîne de caractères\n",
    "#Fonction pour supprimer la ponctuation\n",
    "def SupprimerPonctuation(chaine):\n",
    "  ...\n",
    "  return chaine_nettoyee\n",
    "#Fonction pour compter les caractères d'une chaine\n",
    "def CompterCaracteres(texte):\n",
    "  ...\n",
    "  return dico_caracteres\n",
    "###############################\n",
    "##CONSTANTES\n",
    "liste_fichiers = [\"TD3_textes/LExpress.txt\", \"TD3_textes/Hugo.txt\"]\n",
    "###############################\n",
    "## MAIN\n",
    "##BOUCLE CHAINE DE TRAITEMENT\n",
    "for chemin_fichier in liste_fichiers:\n",
    "  print(\"Traitement en cours : \", chemin_fichier)\n",
    "  texteComplet = lire_fichier(....\n",
    "  texte = SupprimerPonctuation(texteComplet)...\n",
    "  ...\n"
   ]
  }
 ],
 "metadata": {
  "celltoolbar": "Format de la Cellule Texte Brut",
  "kernelspec": {
   "display_name": "Python 3",
   "language": "python",
   "name": "python3"
  },
  "language_info": {
   "codemirror_mode": {
    "name": "ipython",
    "version": 3
   },
   "file_extension": ".py",
   "mimetype": "text/x-python",
   "name": "python",
   "nbconvert_exporter": "python",
   "pygments_lexer": "ipython3",
   "version": "3.7.5"
  }
 },
 "nbformat": 4,
 "nbformat_minor": 4
}
