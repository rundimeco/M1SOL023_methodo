{
 "cells": [
  {
   "cell_type": "code",
   "execution_count": 1,
   "metadata": {},
   "outputs": [],
   "source": []
  },
  {
   "cell_type": "code",
   "execution_count": 43,
   "metadata": {},
   "outputs": [
    {
     "name": "stdout",
     "output_type": "stream",
     "text": [
      "dict_keys([1, 0])\n",
      "\\begin{tabular}{l|l|l|l|l}\n",
      "Classe \t & NB \t & Phrases \t & mots \t & Caractères \\\\\n",
      "\\hline\n",
      "1 \t& 1368\t& 20968 (moy=15.33$\\pm$24.34)\t& 364480 (moy=266.43$\\pm$451.46)\t& 1802008 (moy=1317.26$\\pm$2271.37)\\\\\n",
      "0 \t& 4360\t& 76413 (moy=17.53$\\pm$28.48)\t& 1507709 (moy=345.8$\\pm$406.19)\t& 7115163 (moy=1631.92$\\pm$1959.66)\\\\\n",
      "\\end{tabular}\n"
     ]
    }
   ],
   "source": [
    "import pandas as pd\n",
    "data_spam =pd.read_csv(\"spamham.csv\")\n",
    "\n",
    "classes = data_spam[\"spam\"]\n",
    "texts   = data_spam[\"text\"]\n",
    "                  \n",
    "import re\n",
    "\n",
    "dic = {}\n",
    "for i in range(len(texts)):\n",
    "    classe = classes[i]\n",
    "    txt = texts[i]\n",
    "    dic.setdefault(classe, {\"NB\":0, \"mots\":[], \"Phrases\":[], \"Caractères\":[]})\n",
    "    dic[classe][\"NB\"]+=1\n",
    "    dic[classe][\"mots\"].append(len(txt.split()))\n",
    "    dic[classe][\"Phrases\"].append(len(re.split(\"\\. \", txt)))\n",
    "    dic[classe][\"Caractères\"].append(len(txt))\n",
    "    \n",
    "import statistics\n",
    "\n",
    "print(dic.keys())\n",
    "\n",
    "\n",
    "### premier essai, les stats sont en colonnes\n",
    "nom_stats = [\"NB\", \"Phrases\", \"mots\", \"Caractères\"]\n",
    "\n",
    "### NB: le stabulations (\\t) servent uniquement pour l'affichage pour l'humaipn, latex s'en fiche\n",
    "print(\"\\\\begin{tabular}{l|l|l|l|l}\")\n",
    "print(\"Classe \\t & %s \\\\\\\\\" %(\" \\t & \".join(nom_stats)))\n",
    "print(\"\\hline\")\n",
    "\n",
    "for classe, infos in dic.items():\n",
    "    ligne = \"%s \\t& %s\" %(str(classe), infos[\"NB\"])\n",
    "    for nom in [\"Phrases\", \"mots\", \"Caractères\"]:\n",
    "        liste_valeurs = infos[nom]\n",
    "        total     = sum(liste_valeurs)\n",
    "        moyenne   = round(statistics.mean(liste_valeurs), 2)\n",
    "        ecart_type= round(statistics.stdev(liste_valeurs), 2)\n",
    "        ligne += f\"\\t& {total} (moy={moyenne}$\\pm${ecart_type})\"\n",
    "    print(ligne+\"\\\\\\\\\")\n",
    "print(\"\\end{tabular}\")\n"
   ]
  },
  {
   "cell_type": "code",
   "execution_count": 46,
   "metadata": {},
   "outputs": [
    {
     "name": "stdout",
     "output_type": "stream",
     "text": [
      "\\begin{tabular}{l|l|l}\n",
      "Classes: \t & 1 \t & 0\\\\\n",
      "\\hline\n",
      "NB \t & 1368 \t & 4360\\\\\n",
      "Phrases\t & 20968 (moy=15.33$\\pm$24.34)\t & 76413 (moy=17.53$\\pm$28.48)\\\\\n",
      "mots\t & 364480 (moy=266.43$\\pm$451.46)\t & 1507709 (moy=345.8$\\pm$406.19)\\\\\n",
      "Caractères\t & 1802008 (moy=1317.26$\\pm$2271.37)\t & 7115163 (moy=1631.92$\\pm$1959.66)\\\\\n",
      "\\end{tabular}\n"
     ]
    }
   ],
   "source": [
    "## le même dans l'autre sens : les classes sont en colonnes\n",
    "print(\"\\\\begin{tabular}{l|l|l}\")\n",
    "\n",
    "ligne = \"Classes:\"\n",
    "for classe, infos in dic.items():\n",
    "    ligne += \" \\t & %s\" %str(classe)\n",
    "print(ligne + \"\\\\\\\\\")\n",
    "print(\"\\hline\")\n",
    "\n",
    "ligne = \"NB\"\n",
    "for classe, infos in dic.items():\n",
    "    ligne += \" \\t & %s\"  % str(infos[\"NB\"])\n",
    "print(ligne + \"\\\\\\\\\")\n",
    "\n",
    "for nom in [\"Phrases\", \"mots\", \"Caractères\"]:\n",
    "    ligne = nom\n",
    "    for classe, infos in dic.items():\n",
    "        liste_valeurs = infos[nom]\n",
    "        total     = sum(liste_valeurs)\n",
    "        moyenne   = round(statistics.mean(liste_valeurs), 2)\n",
    "        ecart_type= round(statistics.stdev(liste_valeurs), 2)\n",
    "        ligne += f\"\\t & {total} (moy={moyenne}$\\pm${ecart_type})\"\n",
    "    print(ligne+\"\\\\\\\\\")\n",
    "print(\"\\end{tabular}\")"
   ]
  },
  {
   "cell_type": "code",
   "execution_count": null,
   "metadata": {},
   "outputs": [],
   "source": []
  }
 ],
 "metadata": {
  "kernelspec": {
   "display_name": "Python 3",
   "language": "python",
   "name": "python3"
  },
  "language_info": {
   "codemirror_mode": {
    "name": "ipython",
    "version": 3
   },
   "file_extension": ".py",
   "mimetype": "text/x-python",
   "name": "python",
   "nbconvert_exporter": "python",
   "pygments_lexer": "ipython3",
   "version": "3.7.5"
  }
 },
 "nbformat": 4,
 "nbformat_minor": 2
}
