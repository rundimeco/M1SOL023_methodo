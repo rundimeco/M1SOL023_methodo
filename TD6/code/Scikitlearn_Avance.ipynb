{
 "cells": [
  {
   "cell_type": "code",
   "execution_count": 1,
   "metadata": {},
   "outputs": [],
   "source": [
    "import pandas as pd\n",
    "data_spam =pd.read_csv(\"spamham.csv\")"
   ]
  },
  {
   "cell_type": "code",
   "execution_count": 2,
   "metadata": {},
   "outputs": [],
   "source": [
    "## Récupérer les instances (X) et les classes (y) et vectoriser\n",
    "y = data_spam[\"spam\"]\n",
    "\n",
    "from sklearn.feature_extraction.text import CountVectorizer\n",
    "V = CountVectorizer(ngram_range = (1,2) )\n",
    "X = V.fit_transform(data_spam[\"text\"])\n",
    "\n",
    "## séparer train test\n",
    "from sklearn.model_selection import train_test_split\n",
    "X_train, X_test, y_train, y_test = train_test_split(X, y, test_size=0.3, random_state=0)"
   ]
  },
  {
   "cell_type": "markdown",
   "metadata": {},
   "source": [
    "**On avait déjà vu un exemple simple d'évaluation, l'exactitude :**"
   ]
  },
  {
   "cell_type": "code",
   "execution_count": 3,
   "metadata": {},
   "outputs": [
    {
     "name": "stdout",
     "output_type": "stream",
     "text": [
      "Bons résultats 1685\n",
      "Erreurs: 34\n",
      "0.9802210587550901\n"
     ]
    }
   ],
   "source": [
    "#classifier\n",
    "from sklearn.linear_model import Perceptron\n",
    "\n",
    "ppn = Perceptron(eta0=0.1, random_state=0)\n",
    "ppn.fit(X_train, y_train)\n",
    "y_pred = ppn.predict(X_test)\n",
    "\n",
    "# On fait la somme de tous les cas où la valeur dans y_test est bien trouvée dans y_pred\n",
    "good = (y_test == y_pred).sum()\n",
    "bad = (y_test != y_pred).sum()\n",
    "print('Bons résultats %d' % good)\n",
    "print('Erreurs: %d' % bad)\n",
    "print(good/(bad+good))"
   ]
  },
  {
   "cell_type": "markdown",
   "metadata": {},
   "source": [
    "**Maintenant allons plus loin dans l'évaluation**"
   ]
  },
  {
   "cell_type": "code",
   "execution_count": 4,
   "metadata": {},
   "outputs": [
    {
     "name": "stdout",
     "output_type": "stream",
     "text": [
      "0.7643979057591623\n",
      "              precision    recall  f1-score   support\n",
      "\n",
      "           0       0.99      0.98      0.99      1314\n",
      "           1       0.95      0.97      0.96       405\n",
      "\n",
      "    accuracy                           0.98      1719\n",
      "   macro avg       0.97      0.98      0.97      1719\n",
      "weighted avg       0.98      0.98      0.98      1719\n",
      "\n",
      "              precision    recall  f1-score   support\n",
      "\n",
      "         ham     0.9900    0.9840    0.9870      1314\n",
      "        spam     0.9492    0.9679    0.9584       405\n",
      "\n",
      "    accuracy                         0.9802      1719\n",
      "   macro avg     0.9696    0.9760    0.9727      1719\n",
      "weighted avg     0.9804    0.9802    0.9803      1719\n",
      "\n"
     ]
    }
   ],
   "source": [
    "from sklearn.metrics import classification_report\n",
    "\n",
    "print(1314/(1314+405))\n",
    "report = classification_report(y_test, y_pred)\n",
    "print(report)\n",
    "\n",
    "##Comme nous savons que le 1 c'est spam et le 0 c'est ham, on peut écrire ceci\n",
    "nom_classes = [\"ham\", \"spam\"]\n",
    "report = classification_report(y_test, y_pred, target_names=nom_classes, digits=4)\n",
    "print(report)"
   ]
  },
  {
   "cell_type": "markdown",
   "metadata": {},
   "source": [
    "Précision, rappel, f-mesure: c'est du déjà vu\n",
    "\n",
    "Le **support** c'est le nombre d'instances concernées\n",
    "\n",
    "La **weighted f-mesure** (f-mesure pondérée ou micro moyenne de la F-mesure) c'est la moyenne des F-mesure mais pondérée (une classe compte en fonction de sa taille), ça représente mieux la classe majoritaire\n",
    "--> on compte par instance\n",
    "\n",
    "La **macro f-mesure** c'est la moyenne des F-mesure de chaque classe (indépendamment de leur taille), ça représente mieux la classe minoritaire généralement plus difficile à trouver\n",
    "--> on compte par classe"
   ]
  },
  {
   "cell_type": "code",
   "execution_count": 50,
   "metadata": {},
   "outputs": [],
   "source": [
    "## On peut enregistrer le classification report pour s'en servir plus tard\n",
    "with open(\"report_classifier=perceptron_dataset=spam.txt\", \"w\") as w:\n",
    "    w.write(report)\n"
   ]
  },
  {
   "cell_type": "code",
   "execution_count": 51,
   "metadata": {},
   "outputs": [
    {
     "name": "stdout",
     "output_type": "stream",
     "text": [
      "              precision    recall  f1-score   support\n",
      "\n",
      "         ham     0.9900    0.9840    0.9870      1314\n",
      "        spam     0.9492    0.9679    0.9584       405\n",
      "\n",
      "    accuracy                         0.9802      1719\n",
      "   macro avg     0.9696    0.9760    0.9727      1719\n",
      "weighted avg     0.9804    0.9802    0.9803      1719\n",
      "\n"
     ]
    }
   ],
   "source": [
    "with open(\"report_classifier=perceptron_dataset=spam.txt\") as f:\n",
    "    r = f.read()\n",
    "print(r)"
   ]
  },
  {
   "cell_type": "code",
   "execution_count": 52,
   "metadata": {},
   "outputs": [
    {
     "name": "stdout",
     "output_type": "stream",
     "text": [
      "{'ham': {'precision': 0.9900459418070444, 'recall': 0.9840182648401826, 'f1-score': 0.9870229007633587, 'support': 1314}, 'spam': {'precision': 0.9491525423728814, 'recall': 0.9679012345679012, 'f1-score': 0.958435207823961, 'support': 405}, 'accuracy': 0.9802210587550901, 'macro avg': {'precision': 0.9695992420899628, 'recall': 0.975959749704042, 'f1-score': 0.9727290542936599, 'support': 1719}, 'weighted avg': {'precision': 0.9804113712597285, 'recall': 0.9802210587550901, 'f1-score': 0.9802875804373226, 'support': 1719}}\n"
     ]
    }
   ],
   "source": [
    "import json\n",
    "report = classification_report(y_test, y_pred, target_names=nom_classes, digits=4, output_dict = True)\n",
    "print(report)\n",
    "with open(\"classificatio_report.json\", \"w\") as w:\n",
    "    w.write(json.dumps(report, indent=2))"
   ]
  },
  {
   "cell_type": "code",
   "execution_count": 53,
   "metadata": {},
   "outputs": [
    {
     "name": "stdout",
     "output_type": "stream",
     "text": [
      "(array([0.99004594, 0.94915254]), array([0.98401826, 0.96790123]), array([0.9870229 , 0.95843521]), array([1314,  405]))\n"
     ]
    }
   ],
   "source": [
    "##On peut avoir la même chose sous forme de liste python :\n",
    "from sklearn.metrics import precision_recall_fscore_support\n",
    "stats = precision_recall_fscore_support(y_test, y_pred)\n",
    "print(stats)\n",
    "##dans l'ordre les précisions pour chaque classe, puis les rappels ..."
   ]
  },
  {
   "cell_type": "markdown",
   "metadata": {},
   "source": [
    "** Et maintenant la matrice de confusion **"
   ]
  },
  {
   "cell_type": "code",
   "execution_count": 54,
   "metadata": {},
   "outputs": [
    {
     "name": "stdout",
     "output_type": "stream",
     "text": [
      "[[1293   21]\n",
      " [  13  392]]\n"
     ]
    },
    {
     "data": {
      "image/png": "[encoded data removed]",
      "text/plain": [
       "<Figure size 360x360 with 2 Axes>"
      ]
     },
     "metadata": {
      "needs_background": "light"
     },
     "output_type": "display_data"
    }
   ],
   "source": [
    "from sklearn.metrics import confusion_matrix\n",
    "\n",
    "\n",
    "\n",
    "import seaborn as sns\n",
    "import matplotlib.pyplot as plt\n",
    "from sklearn.metrics import confusion_matrix\n",
    "\n",
    "matrice_confusion = confusion_matrix(y_test, y_pred)\n",
    "print(matrice_confusion)\n",
    "fig, ax = plt.subplots(figsize=(5,5))\n",
    "classes = [\"ham\", \"spam\"]\n",
    "sns.heatmap(matrice_confusion, cmap = plt.cm.Reds, \n",
    "            xticklabels=classes, yticklabels=classes, \n",
    "            annot=True, fmt =\"d\")\n",
    "\n",
    "#sns.heatmap(matrice_confusion, xticklabels=[\"ham\", \"spam\"], yticklabels=[\"ham\", \"spam\"], cmap = plt.cm.Greys )\n",
    "plt.show()"
   ]
  },
  {
   "cell_type": "markdown",
   "metadata": {},
   "source": [
    "**Regardons maintenant un arbre de décision pour jouer avec les paramètres**"
   ]
  },
  {
   "cell_type": "code",
   "execution_count": 55,
   "metadata": {},
   "outputs": [],
   "source": [
    "from sklearn import tree\n",
    "DT = tree.DecisionTreeClassifier()\n",
    "DT = DT.fit(X_train, y_train)\n",
    "y_pred = DT.predict(X_test)\n"
   ]
  },
  {
   "cell_type": "code",
   "execution_count": 56,
   "metadata": {},
   "outputs": [
    {
     "name": "stdout",
     "output_type": "stream",
     "text": [
      "[[1257   57]\n",
      " [  31  374]]\n"
     ]
    }
   ],
   "source": [
    "matrice_confusion = confusion_matrix(y_test, y_pred)\n",
    "print(matrice_confusion)"
   ]
  },
  {
   "cell_type": "markdown",
   "metadata": {},
   "source": [
    "**regardons l'impact du paramètres random_state**"
   ]
  },
  {
   "cell_type": "code",
   "execution_count": 64,
   "metadata": {},
   "outputs": [
    {
     "name": "stdout",
     "output_type": "stream",
     "text": [
      "Avec la valeur par défaut de random state\n",
      "déjà fait\n",
      "déjà fait\n",
      "déjà fait\n",
      "déjà fait\n",
      "Durée :  0.0014150000000086038\n"
     ]
    },
    {
     "name": "stderr",
     "output_type": "stream",
     "text": [
      "/home/rundimeco/anaconda3/lib/python3.7/site-packages/ipykernel_launcher.py:4: DeprecationWarning: time.clock has been deprecated in Python 3.3 and will be removed from Python 3.8: use time.perf_counter or time.process_time instead\n",
      "  after removing the cwd from sys.path.\n",
      "/home/rundimeco/anaconda3/lib/python3.7/site-packages/ipykernel_launcher.py:28: DeprecationWarning: time.clock has been deprecated in Python 3.3 and will be removed from Python 3.8: use time.perf_counter or time.process_time instead\n"
     ]
    }
   ],
   "source": [
    "import time\n",
    "import os\n",
    "print(\"Avec la valeur par défaut de random state\")\n",
    "start = time.clock()\n",
    "\n",
    "for i in range(4):\n",
    "  nom_figure = \"Figures/DT_%i.png\"%i\n",
    "  if os.path.exists(nom_figure) == True:\n",
    "        print(\"déjà fait\")\n",
    "        continue\n",
    "  DT = tree.DecisionTreeClassifier()\n",
    "  DT = DT.fit(X_train, y_train)\n",
    "  y_pred = DT.predict(X_test)\n",
    "\n",
    "  matrice_confusion = confusion_matrix(y_test, y_pred)\n",
    "  print(matrice_confusion)\n",
    "  stats = precision_recall_fscore_support(y_test, y_pred)\n",
    "  print(stats)\n",
    "  print(\"--\"*10)\n",
    "  fig, ax = plt.subplots(figsize=(5,5))\n",
    "  classes = [\"ham\", \"spam\"]\n",
    "  sns.heatmap(matrice_confusion, cmap = plt.cm.Reds, \n",
    "            xticklabels=classes, yticklabels=classes, \n",
    "            annot=True, fmt =\"d\")\n",
    "  plt.savefig(nom_figure)\n",
    "  plt.show()\n",
    "  print(\"\")\n",
    "end = time.clock()\n",
    "print(\"Durée : \", end-start)"
   ]
  },
  {
   "cell_type": "code",
   "execution_count": 61,
   "metadata": {},
   "outputs": [
    {
     "name": "stdout",
     "output_type": "stream",
     "text": [
      "En fixant random state\n",
      "[[1261   53]\n",
      " [  37  368]]\n",
      "(array([0.97149461, 0.87410926]), array([0.95966514, 0.90864198]), array([0.96554364, 0.89104116]), array([1314,  405]))\n",
      "\n",
      "[[1261   53]\n",
      " [  37  368]]\n",
      "(array([0.97149461, 0.87410926]), array([0.95966514, 0.90864198]), array([0.96554364, 0.89104116]), array([1314,  405]))\n",
      "\n"
     ]
    },
    {
     "ename": "KeyboardInterrupt",
     "evalue": "",
     "output_type": "error",
     "traceback": [
      "\u001b[0;31m---------------------------------------------------------------------------\u001b[0m",
      "\u001b[0;31mKeyboardInterrupt\u001b[0m                         Traceback (most recent call last)",
      "\u001b[0;32m<ipython-input-61-e11ecf851b79>\u001b[0m in \u001b[0;36m<module>\u001b[0;34m\u001b[0m\n\u001b[1;32m      3\u001b[0m \u001b[0;32mfor\u001b[0m \u001b[0mi\u001b[0m \u001b[0;32min\u001b[0m \u001b[0mrange\u001b[0m\u001b[0;34m(\u001b[0m\u001b[0;36m3\u001b[0m\u001b[0;34m)\u001b[0m\u001b[0;34m:\u001b[0m\u001b[0;34m\u001b[0m\u001b[0;34m\u001b[0m\u001b[0m\n\u001b[1;32m      4\u001b[0m   \u001b[0mDT\u001b[0m \u001b[0;34m=\u001b[0m \u001b[0mtree\u001b[0m\u001b[0;34m.\u001b[0m\u001b[0mDecisionTreeClassifier\u001b[0m\u001b[0;34m(\u001b[0m\u001b[0mrandom_state\u001b[0m\u001b[0;34m=\u001b[0m\u001b[0;36m0\u001b[0m\u001b[0;34m)\u001b[0m\u001b[0;34m\u001b[0m\u001b[0;34m\u001b[0m\u001b[0m\n\u001b[0;32m----> 5\u001b[0;31m   \u001b[0mDT\u001b[0m \u001b[0;34m=\u001b[0m \u001b[0mDT\u001b[0m\u001b[0;34m.\u001b[0m\u001b[0mfit\u001b[0m\u001b[0;34m(\u001b[0m\u001b[0mX_train\u001b[0m\u001b[0;34m,\u001b[0m \u001b[0my_train\u001b[0m\u001b[0;34m)\u001b[0m\u001b[0;34m\u001b[0m\u001b[0;34m\u001b[0m\u001b[0m\n\u001b[0m\u001b[1;32m      6\u001b[0m   \u001b[0my_pred\u001b[0m \u001b[0;34m=\u001b[0m \u001b[0mDT\u001b[0m\u001b[0;34m.\u001b[0m\u001b[0mpredict\u001b[0m\u001b[0;34m(\u001b[0m\u001b[0mX_test\u001b[0m\u001b[0;34m)\u001b[0m\u001b[0;34m\u001b[0m\u001b[0;34m\u001b[0m\u001b[0m\n\u001b[1;32m      7\u001b[0m   \u001b[0mmatrice_confusion\u001b[0m \u001b[0;34m=\u001b[0m \u001b[0mconfusion_matrix\u001b[0m\u001b[0;34m(\u001b[0m\u001b[0my_test\u001b[0m\u001b[0;34m,\u001b[0m \u001b[0my_pred\u001b[0m\u001b[0;34m)\u001b[0m\u001b[0;34m\u001b[0m\u001b[0;34m\u001b[0m\u001b[0m\n",
      "\u001b[0;32m~/anaconda3/lib/python3.7/site-packages/sklearn/tree/_classes.py\u001b[0m in \u001b[0;36mfit\u001b[0;34m(self, X, y, sample_weight, check_input, X_idx_sorted)\u001b[0m\n\u001b[1;32m    905\u001b[0m             \u001b[0msample_weight\u001b[0m\u001b[0;34m=\u001b[0m\u001b[0msample_weight\u001b[0m\u001b[0;34m,\u001b[0m\u001b[0;34m\u001b[0m\u001b[0;34m\u001b[0m\u001b[0m\n\u001b[1;32m    906\u001b[0m             \u001b[0mcheck_input\u001b[0m\u001b[0;34m=\u001b[0m\u001b[0mcheck_input\u001b[0m\u001b[0;34m,\u001b[0m\u001b[0;34m\u001b[0m\u001b[0;34m\u001b[0m\u001b[0m\n\u001b[0;32m--> 907\u001b[0;31m             X_idx_sorted=X_idx_sorted)\n\u001b[0m\u001b[1;32m    908\u001b[0m         \u001b[0;32mreturn\u001b[0m \u001b[0mself\u001b[0m\u001b[0;34m\u001b[0m\u001b[0;34m\u001b[0m\u001b[0m\n\u001b[1;32m    909\u001b[0m \u001b[0;34m\u001b[0m\u001b[0m\n",
      "\u001b[0;32m~/anaconda3/lib/python3.7/site-packages/sklearn/tree/_classes.py\u001b[0m in \u001b[0;36mfit\u001b[0;34m(self, X, y, sample_weight, check_input, X_idx_sorted)\u001b[0m\n\u001b[1;32m    392\u001b[0m                                            min_impurity_split)\n\u001b[1;32m    393\u001b[0m \u001b[0;34m\u001b[0m\u001b[0m\n\u001b[0;32m--> 394\u001b[0;31m         \u001b[0mbuilder\u001b[0m\u001b[0;34m.\u001b[0m\u001b[0mbuild\u001b[0m\u001b[0;34m(\u001b[0m\u001b[0mself\u001b[0m\u001b[0;34m.\u001b[0m\u001b[0mtree_\u001b[0m\u001b[0;34m,\u001b[0m \u001b[0mX\u001b[0m\u001b[0;34m,\u001b[0m \u001b[0my\u001b[0m\u001b[0;34m,\u001b[0m \u001b[0msample_weight\u001b[0m\u001b[0;34m)\u001b[0m\u001b[0;34m\u001b[0m\u001b[0;34m\u001b[0m\u001b[0m\n\u001b[0m\u001b[1;32m    395\u001b[0m \u001b[0;34m\u001b[0m\u001b[0m\n\u001b[1;32m    396\u001b[0m         \u001b[0;32mif\u001b[0m \u001b[0mself\u001b[0m\u001b[0;34m.\u001b[0m\u001b[0mn_outputs_\u001b[0m \u001b[0;34m==\u001b[0m \u001b[0;36m1\u001b[0m \u001b[0;32mand\u001b[0m \u001b[0mis_classifier\u001b[0m\u001b[0;34m(\u001b[0m\u001b[0mself\u001b[0m\u001b[0;34m)\u001b[0m\u001b[0;34m:\u001b[0m\u001b[0;34m\u001b[0m\u001b[0;34m\u001b[0m\u001b[0m\n",
      "\u001b[0;31mKeyboardInterrupt\u001b[0m: "
     ]
    }
   ],
   "source": [
    "print(\"En fixant random state\")\n",
    "\n",
    "for i in range(3):\n",
    "  DT = tree.DecisionTreeClassifier(random_state=0)\n",
    "  DT = DT.fit(X_train, y_train)\n",
    "  y_pred = DT.predict(X_test)\n",
    "  matrice_confusion = confusion_matrix(y_test, y_pred)\n",
    "  print(matrice_confusion)\n",
    "  stats = precision_recall_fscore_support(y_test, y_pred)\n",
    "  print(stats)\n",
    "  print(\"\")\n",
    "end = time.clock()\n",
    "print(\"Durée : \", end-start)"
   ]
  },
  {
   "cell_type": "markdown",
   "metadata": {},
   "source": [
    "**Allez voir sur https://scikit-learn.org/stable/modules/generated/sklearn.tree.DecisionTreeClassifier.html**\n",
    "\n",
    "**regardez l'explication donnée sur ce paramètre**\n",
    "\n",
    "Intéressez vous ensuite aux paramètres suivants: max_depth, min_samples_split, min_samples_leaf et max_features\n",
    "\n",
    "Lancez différentes expériences pour voir leur impact respectif\n"
   ]
  },
  {
   "cell_type": "markdown",
   "metadata": {},
   "source": [
    "## Tester d'autres caracétristiques\n",
    "\n",
    "Ce que l'on a fait jusqu'ici c'est du sac de mots, ou Bag of Words (BOW), même si on ajouté des choses:\n",
    "\n",
    "- n-grams\n",
    "- caractères plutôt que mots (sac de caractères si on peut dire)\n",
    "- pondération tf-idf\n",
    "\n",
    "On va tester d'autres caractéristiques maintenant, ce que l'on va appeler des caractéristiques \"stylistiques\". On va pour chaque texte compter quelques caractéristiques, les ranger dans un vecteur et donner ça au classifieur."
   ]
  },
  {
   "cell_type": "code",
   "execution_count": null,
   "metadata": {},
   "outputs": [],
   "source": [
    "import statistics\n",
    "\n",
    "X_stylo = []#notre nouvele matrice de description\n",
    "for text in data_spam[\"text\"]:\n",
    "    liste_mots = text.split()\n",
    "    phrases = text.split(\". \")\n",
    "    NB_phrases = len(phrases)\n",
    "    NB_mots = len(liste_mots)\n",
    "    NB_caracteres = len(text)\n",
    "    moyenne_taille_mots = statistics.mean([len(x) for x in liste_mots])\n",
    "    moyenne_taille_phrases = NB_mots/NB_phrases\n",
    "    caracteristiques = [NB_phrases, NB_mots, NB_caracteres, moyenne_taille_mots, moyenne_taille_phrases]\n",
    "    X_stylo.append(caracteristiques)"
   ]
  },
  {
   "cell_type": "markdown",
   "metadata": {},
   "source": [
    "Chaque texte est décrit par 5 caractéristiques, et on va voir si le classifieur arrive à quelque chose"
   ]
  },
  {
   "cell_type": "code",
   "execution_count": null,
   "metadata": {},
   "outputs": [],
   "source": [
    "## Notez bien dans les parenthèses que l'on utilise X_stylo désormais\n",
    "X_train, X_test, y_train, y_test = train_test_split(X_stylo, y, test_size=0.3, random_state=0)\n",
    "DT = tree.DecisionTreeClassifier()\n",
    "DT = DT.fit(X_train, y_train)\n",
    "y_pred = DT.predict(X_test)\n",
    "matrice_confusion = confusion_matrix(y_test, y_pred)\n",
    "print(matrice_confusion)\n",
    "stats = precision_recall_fscore_support(y_test, y_pred)\n",
    "print(stats)\n",
    "report = classification_report(y_test, y_pred, target_names=nom_classes)\n",
    "print(report)"
   ]
  },
  {
   "cell_type": "code",
   "execution_count": null,
   "metadata": {},
   "outputs": [],
   "source": [
    "y_spam = [1 for x in y_test]##une liste remplie de 1\n",
    "report = classification_report(y_test, y_spam, target_names=nom_classes)\n",
    "matrice_confusion = confusion_matrix(y_test, y_spam)\n",
    "print(matrice_confusion)\n",
    "print(report)\n",
    "\n",
    "y_ham = [0 for x in y_test]##une liste remplie de 0\n",
    "report = classification_report(y_test, y_ham, target_names=nom_classes)\n",
    "matrice_confusion = confusion_matrix(y_test, y_ham)\n",
    "print(matrice_confusion)\n",
    "print(report)"
   ]
  },
  {
   "cell_type": "markdown",
   "metadata": {},
   "source": [
    "**Et maintenant on combine le BOW et le stylométrique**"
   ]
  },
  {
   "cell_type": "code",
   "execution_count": null,
   "metadata": {},
   "outputs": [],
   "source": [
    "## on regarde la \"forme\" de X\n",
    "print(X.shape[0])#NB lignes   -> instances\n",
    "print(X.shape[1])#Nb colonnes -> caractéristiques\n",
    "\n",
    "##on crée une sparse matrix avec notre X_stylo\n",
    "from scipy.sparse import csr_matrix\n",
    "sparse_stylo = csr_matrix(X_stylo)\n",
    "print(sparse_stylo.shape[0])#NB lignes   -> instances\n",
    "print(sparse_stylo.shape[1])#Nb colonnes -> caractéristiques\n",
    "\n",
    "## on ale même nombre de ligne, on fait donc une conctaténation horizontale :\n",
    "from scipy.sparse import hstack\n",
    "X_fusion = hstack((X, sparse_stylo))"
   ]
  },
  {
   "cell_type": "markdown",
   "metadata": {},
   "source": [
    "**Et on y va !**"
   ]
  },
  {
   "cell_type": "code",
   "execution_count": null,
   "metadata": {},
   "outputs": [],
   "source": [
    "X_train, X_test, y_train, y_test = train_test_split(X_fusion, y, test_size=0.3, random_state=0)\n",
    "DT = tree.DecisionTreeClassifier()\n",
    "DT = DT.fit(X_train, y_train)\n",
    "y_pred = DT.predict(X_test)\n",
    "matrice_confusion = confusion_matrix(y_test, y_pred)\n",
    "print(matrice_confusion)\n",
    "stats = precision_recall_fscore_support(y_test, y_pred)\n",
    "print(stats)\n",
    "report = classification_report(y_test, y_pred, target_names=nom_classes)\n",
    "print(report)"
   ]
  },
  {
   "cell_type": "markdown",
   "metadata": {},
   "source": [
    "Malheureusement ça marche moins bien que le BOW tout seul (ce qui ne signifie pas que ce serait le cas sur tout jeu de données)."
   ]
  },
  {
   "cell_type": "markdown",
   "metadata": {},
   "source": [
    "**Pour Aller plus loin sur l'exploration des paramètres**\n",
    "\n",
    "Dans un nouveau notebook, explorez les possibilités offertes par les forêtes d'arbres aléatoires : https://scikit-learn.org/stable/modules/generated/sklearn.ensemble.RandomForestClassifier.html"
   ]
  },
  {
   "cell_type": "code",
   "execution_count": null,
   "metadata": {},
   "outputs": [],
   "source": []
  }
 ],
 "metadata": {
  "kernelspec": {
   "display_name": "Python 3",
   "language": "python",
   "name": "python3"
  },
  "language_info": {
   "codemirror_mode": {
    "name": "ipython",
    "version": 3
   },
   "file_extension": ".py",
   "mimetype": "text/x-python",
   "name": "python",
   "nbconvert_exporter": "python",
   "pygments_lexer": "ipython3",
   "version": "3.7.5"
  }
 },
 "nbformat": 4,
 "nbformat_minor": 2
}
