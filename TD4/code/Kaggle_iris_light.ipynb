{
 "cells": [
  {
   "cell_type": "markdown",
   "metadata": {
    "_cell_guid": "88e8ec6d-76e5-5f12-d9a6-2b40017a2b99"
   },
   "source": [
    "## Exploiter le jeu de données Iris avec Sklearn \n",
    "(version légère de https://www.kaggle.com/chungyehwang/scikit-learn-classifiers-on-iris-dataset)"
   ]
  },
  {
   "cell_type": "code",
   "execution_count": 7,
   "metadata": {
    "_cell_guid": "6443d6db-6440-5d93-d37c-4fde4c428ca5"
   },
   "outputs": [
    {
     "name": "stdout",
     "output_type": "stream",
     "text": [
      "[5.1 3.5 1.4 0.2]\n",
      "[4.9 3.  1.4 0.2]\n",
      "{0, 1, 2}\n"
     ]
    }
   ],
   "source": [
    "from sklearn import datasets\n",
    "iris = datasets.load_iris()\n",
    "NB_instances = len(iris.data)\n",
    "\n",
    "X = iris.data\n",
    "print(X[0])\n",
    "print(X[1])\n",
    "\n",
    "y = iris.target\n",
    "print(set(y))"
   ]
  },
  {
   "cell_type": "markdown",
   "metadata": {
    "_cell_guid": "eeaf0cb8-4c35-7422-1e08-345a25ed309a"
   },
   "source": [
    "Train/Test\n",
    "-----------------------------------------------------------"
   ]
  },
  {
   "cell_type": "code",
   "execution_count": 5,
   "metadata": {
    "_cell_guid": "8393598e-1344-0e22-43fc-fdda6c75c08a"
   },
   "outputs": [
    {
     "name": "stdout",
     "output_type": "stream",
     "text": [
      "Il y a 105 exemples dans le 'training set' et 45 dans le 'test set'\n"
     ]
    }
   ],
   "source": [
    "from sklearn.model_selection import train_test_split\n",
    "X_train, X_test, y_train, y_test = train_test_split(X, y, test_size=0.3, random_state=0)\n",
    "\n",
    "print(\"Il y a %i exemples dans le 'training set' et %i dans le 'test set'\"%(\n",
    "X_train.shape[0], X_test.shape[0]))"
   ]
  },
  {
   "cell_type": "code",
   "execution_count": 9,
   "metadata": {
    "_cell_guid": "603c3260-f8a6-a0b3-bb1b-e0f21fe53dce"
   },
   "outputs": [
    {
     "name": "stdout",
     "output_type": "stream",
     "text": [
      "Erreurs: 18\n"
     ]
    }
   ],
   "source": [
    "from sklearn.linear_model import Perceptron\n",
    "\n",
    "ppn = Perceptron(eta0=0.1, random_state=0)\n",
    "ppn.fit(X_train, y_train)\n",
    "y_pred = ppn.predict(X_test)\n",
    "print('Erreurs: %d' % (y_test != y_pred).sum())"
   ]
  },
  {
   "cell_type": "code",
   "execution_count": 10,
   "metadata": {
    "_cell_guid": "2686bfd7-9b28-a547-f1b1-b4024e1da9c5"
   },
   "outputs": [
    {
     "name": "stdout",
     "output_type": "stream",
     "text": [
      "Accuracy: 0.60\n"
     ]
    }
   ],
   "source": [
    "from sklearn.metrics import accuracy_score\n",
    "print ('Accuracy: %.2f' % accuracy_score(y_test, y_pred))"
   ]
  },
  {
   "cell_type": "markdown",
   "metadata": {
    "_cell_guid": "09b4dc98-b068-b70c-bf35-77e82b2adc8b"
   },
   "source": [
    "## Avec un classifieur de type SVM"
   ]
  },
  {
   "cell_type": "code",
   "execution_count": 15,
   "metadata": {
    "_cell_guid": "7e8e8442-ae96-b764-8ef6-67add2fa2ede"
   },
   "outputs": [
    {
     "name": "stdout",
     "output_type": "stream",
     "text": [
      "Exactitude sur le 'training data' : 0.97\n",
      "Exactitude sur le 'test data' : 0.98\n"
     ]
    }
   ],
   "source": [
    "from sklearn.svm import SVC\n",
    "\n",
    "svm = SVC(kernel='rbf', random_state=0, gamma=.10, C=1.0)\n",
    "svm.fit(X_train, y_train)\n",
    "\n",
    "print(\"Exactitude sur le 'training data' : %.2f\"%(svm.score(X_train, y_train)))\n",
    "print(\"Exactitude sur le 'test data' : %.2f\"%(svm.score(X_test, y_test)))"
   ]
  },
  {
   "cell_type": "markdown",
   "metadata": {
    "_cell_guid": "090509b2-66bd-0916-571c-4224d55ffa41"
   },
   "source": [
    "## encore un autre classifieur"
   ]
  },
  {
   "cell_type": "code",
   "execution_count": 18,
   "metadata": {
    "_cell_guid": "abd39cb6-86d8-32b6-6108-5cf69f5a4470"
   },
   "outputs": [
    {
     "name": "stdout",
     "output_type": "stream",
     "text": [
      "Exactitude sur le 'training data' : 0.95\n",
      "Exactitude sur le 'test data' : 0.98\n"
     ]
    }
   ],
   "source": [
    "from sklearn.neighbors import KNeighborsClassifier\n",
    "\n",
    "knn = KNeighborsClassifier(n_neighbors=5, p=2, metric='minkowski')\n",
    "knn.fit(X_train, y_train)\n",
    "\n",
    "print(\"Exactitude sur le 'training data' : %.2f\"%(knn.score(X_train, y_train)))\n",
    "print(\"Exactitude sur le 'test data' : %.2f\"%(knn.score(X_test, y_test)))"
   ]
  },
  {
   "cell_type": "code",
   "execution_count": null,
   "metadata": {},
   "outputs": [],
   "source": []
  }
 ],
 "metadata": {
  "_change_revision": 0,
  "_is_fork": false,
  "kernelspec": {
   "display_name": "Python 3",
   "language": "python",
   "name": "python3"
  },
  "language_info": {
   "codemirror_mode": {
    "name": "ipython",
    "version": 3
   },
   "file_extension": ".py",
   "mimetype": "text/x-python",
   "name": "python",
   "nbconvert_exporter": "python",
   "pygments_lexer": "ipython3",
   "version": "3.7.5"
  }
 },
 "nbformat": 4,
 "nbformat_minor": 1
}
