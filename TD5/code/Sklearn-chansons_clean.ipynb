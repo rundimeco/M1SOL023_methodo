{
 "cells": [
  {
   "cell_type": "code",
   "execution_count": 1,
   "metadata": {},
   "outputs": [],
   "source": [
    "\n",
    "\n",
    "\n",
    "import xml.etree.ElementTree as ET\n",
    "tree = ET.parse(\"DATA/Corpus_rapv2.xml\")\n",
    "root = tree.getroot()\n",
    "liste_paroles = []\n",
    "liste_titres  = []\n",
    "liste_artistes= []\n",
    "for child in root.iter(\"chanson\"): #on fait le tour des elements corpus, descendants de root chanson\n",
    "    liste_paroles.append(child.find(\"paroles\").text) #on cherche le contenu de l'element parole\n",
    "    liste_titres.append(child.get(\"titre\"))\n",
    "    liste_artistes.append(child.get(\"artiste\"))"
   ]
  },
  {
   "cell_type": "code",
   "execution_count": 2,
   "metadata": {},
   "outputs": [],
   "source": [
    "from sklearn.feature_extraction.text import CountVectorizer\n",
    "V = CountVectorizer() #l'outil chargé de transformer les textes en \"tableaux de mots\"\n",
    "X = V.fit_transform(liste_paroles)\n",
    "y = liste_artistes\n",
    "\n",
    "from sklearn.model_selection import train_test_split\n",
    "X_train, X_test, y_train, y_test = train_test_split(X, y, test_size=0.3, random_state=0)"
   ]
  },
  {
   "cell_type": "code",
   "execution_count": 10,
   "metadata": {},
   "outputs": [
    {
     "name": "stdout",
     "output_type": "stream",
     "text": [
      "Perceptron\n",
      "Bonne classification: 53\n",
      "Erreurs: 7\n",
      "NOM\n",
      "Bonne classification: 13\n",
      "Erreurs: 47\n"
     ]
    }
   ],
   "source": [
    "from sklearn.linear_model import Perceptron\n",
    "from sklearn.svm import SVC\n",
    "#ppn = Perceptron(eta0=0.1, random_state=0)\n",
    "liste_classifieurs = [\n",
    "    [\"Perceptron\", Perceptron(eta0=0.1, random_state=0)],\n",
    "    [\"NOM\", SVC(gamma='auto')]]\n",
    "\n",
    "for nom, classif in liste_classifieurs:\n",
    "    print(nom)\n",
    "    classif.fit(X_train, y_train)\n",
    "    y_pred = classif.predict(X_test)\n",
    "    print('Bonne classification: %d' % (y_test == y_pred).sum())\n",
    "    print('Erreurs: %d' % (y_test != y_pred).sum())"
   ]
  },
  {
   "cell_type": "code",
   "execution_count": null,
   "metadata": {},
   "outputs": [],
   "source": []
  },
  {
   "cell_type": "code",
   "execution_count": 20,
   "metadata": {},
   "outputs": [],
   "source": [
    "from sklearn.linear_model import RidgeClassifier\n",
    "from sklearn.naive_bayes import MultinomialNB\n",
    "liste_vectorizer = [\n",
    "    [\"words 1\", CountVectorizer()],\n",
    "    [\"words 2\", CountVectorizer(ngram_range=(1,2))],\n",
    "    [\"Ferhat racinisation\", CountVectorizer(ngram_range=(2,7), analyzer=\"char_wb\")],\n",
    "    [\"Tiago words=1,1\", CountVectorizer(ngram_range=(1,1), lowercase=True)],\n",
    "    [\"Tiago words=1,2\", CountVectorizer(ngram_range=(1,2), lowercase=True)],\n",
    "]\n",
    "liste_classifieurs = [\n",
    "    [\"Perceptron\", Perceptron(eta0=0.1, random_state=0)],\n",
    "    [\"SVC\", SVC(gamma='auto')],\n",
    "    [\"ridge classifier Richy\", RidgeClassifier()],\n",
    "    [\"MNB\", MultinomialNB()]\n",
    "]\n",
    "liste= []\n",
    "for nom_vec, V in liste_vectorizer:\n",
    "    X = V.fit_transform(liste_paroles)\n",
    "    y = liste_artistes\n",
    "    X_train, X_test, y_train, y_test = train_test_split(X, y, test_size=0.3, random_state=0)\n",
    "\n",
    "    for nom_classif, classif in liste_classifieurs:\n",
    "        nom_expe = nom_vec + nom_classif\n",
    "        classif.fit(X_train, y_train)\n",
    "        y_pred = classif.predict(X_test)\n",
    "        NB_VP = (y_test == y_pred).sum()\n",
    "        liste.append([NB_VP, nom_expe])\n",
    "        #print('Erreurs: %d' % (y_test != y_pred).sum())\n",
    "print(\"travail terminé\")"
   ]
  },
  {
   "cell_type": "code",
   "execution_count": 21,
   "metadata": {},
   "outputs": [
    {
     "name": "stdout",
     "output_type": "stream",
     "text": [
      "[13, 'Tiago words=1,2SVC']\n",
      "[13, 'words 2SVC']\n",
      "[38, 'Tiago words=1,1SVC']\n",
      "[38, 'words 1SVC']\n",
      "[42, 'Ferhat racinisationSVC']\n",
      "[43, 'Ferhat racinisationridge classifier Richy']\n",
      "[43, 'Tiago words=1,1ridge classifier Richy']\n",
      "[43, 'words 1ridge classifier Richy']\n",
      "[44, 'Tiago words=1,2ridge classifier Richy']\n",
      "[44, 'words 2ridge classifier Richy']\n",
      "[47, 'Ferhat racinisationPerceptron']\n",
      "[50, 'Tiago words=1,1Perceptron']\n",
      "[50, 'words 1Perceptron']\n",
      "[51, 'Tiago words=1,2MNB']\n",
      "[51, 'words 2MNB']\n",
      "[52, 'Ferhat racinisationMNB']\n",
      "[53, 'Tiago words=1,1MNB']\n",
      "[53, 'Tiago words=1,2Perceptron']\n",
      "[53, 'words 1MNB']\n",
      "[53, 'words 2Perceptron']\n"
     ]
    }
   ],
   "source": [
    "for toto in sorted(liste):\n",
    "    print(toto)"
   ]
  },
  {
   "cell_type": "code",
   "execution_count": null,
   "metadata": {},
   "outputs": [],
   "source": []
  }
 ],
 "metadata": {
  "kernelspec": {
   "display_name": "Python 3",
   "language": "python",
   "name": "python3"
  },
  "language_info": {
   "codemirror_mode": {
    "name": "ipython",
    "version": 3
   },
   "file_extension": ".py",
   "mimetype": "text/x-python",
   "name": "python",
   "nbconvert_exporter": "python",
   "pygments_lexer": "ipython3",
   "version": "3.7.5"
  }
 },
 "nbformat": 4,
 "nbformat_minor": 2
}
